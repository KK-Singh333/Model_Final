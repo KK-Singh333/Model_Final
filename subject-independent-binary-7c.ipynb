{
 "cells": [
  {
   "cell_type": "code",
   "execution_count": null,
   "metadata": {
    "collapsed": true,
    "pycharm": {
     "is_executing": true
    }
   },
   "outputs": [],
   "source": [
    "from datetime import datetime"
   ]
  },
  {
   "cell_type": "markdown",
   "source": [
    "#### TimesNet"
   ],
   "metadata": {
    "collapsed": false
   }
  },
  {
   "cell_type": "code",
   "execution_count": 9,
   "outputs": [
    {
     "name": "stdout",
     "output_type": "stream",
     "text": [
      "Duration: 0:00:00\n"
     ]
    }
   ],
   "source": [
    "start_time = datetime.now()\n",
    "\n",
    "# ADFD Dataset\n",
    "!python -u run.py --task_name classification --is_training 1 --root_path ./dataset/ADFD/ --model_id ADFD-Indep-7C --model TimesNet --data ADFD7CIndep --e_layers 6 --batch_size 128 --d_model 128 --d_ff 256 --top_k 1 --des 'Exp' --itr 5 --learning_rate 0.0001 --train_epochs 100 --patience 10\n",
    "\n",
    "# CNBPM Dataset\n",
    "!python -u run.py --task_name classification --is_training 1 --root_path ./dataset/CNBPM/ --model_id CNBPM-Indep-7C --model TimesNet --data CNBPM7CIndep --e_layers 6 --batch_size 128 --d_model 128 --d_ff 256 --top_k 1 --des 'Exp' --itr 5 --learning_rate 0.0001 --train_epochs 100 --patience 10\n",
    "\n",
    "end_time = datetime.now()\n",
    "print(f'Duration: {end_time - start_time}')"
   ],
   "metadata": {
    "collapsed": false
   }
  },
  {
   "cell_type": "markdown",
   "source": [
    "#### Autoformer"
   ],
   "metadata": {
    "collapsed": false
   }
  },
  {
   "cell_type": "code",
   "execution_count": 10,
   "outputs": [],
   "source": [
    "start_time = datetime.now()\n",
    "\n",
    "# ADFD Dataset\n",
    "!python -u run.py --task_name classification --is_training 1 --root_path ./dataset/ADFD/ --model_id ADFD-Indep-7C --model Autoformer --data ADFD7CIndep --e_layers 6 --batch_size 128 --d_model 128 --d_ff 256 --des 'Exp' --itr 5 --learning_rate 0.0001 --train_epochs 100 --patience 10\n",
    "\n",
    "# CNBPM Dataset\n",
    "!python -u run.py --task_name classification --is_training 1 --root_path ./dataset/CNBPM/ --model_id CNBPM-Indep-7C --model Autoformer --data CNBPM7CIndep --e_layers 6 --batch_size 128 --d_model 128 --d_ff 256 --des 'Exp' --itr 5 --learning_rate 0.0001 --train_epochs 100 --patience 10\n",
    "\n",
    "end_time = datetime.now()\n",
    "print(f'Duration: {end_time - start_time}')"
   ],
   "metadata": {
    "collapsed": false
   }
  },
  {
   "cell_type": "markdown",
   "source": [
    "#### FEDformer"
   ],
   "metadata": {
    "collapsed": false
   }
  },
  {
   "cell_type": "code",
   "execution_count": null,
   "outputs": [],
   "source": [
    "start_time = datetime.now()\n",
    "\n",
    "# ADFD Dataset\n",
    "!python -u run.py --task_name classification --is_training 1 --root_path ./dataset/ADFD/ --model_id ADFD-Indep-7C --model FEDformer --data ADFD7CIndep --e_layers 6 --batch_size 128 --d_model 128 --d_ff 256 --des 'Exp' --itr 5 --learning_rate 0.0001 --train_epochs 100 --patience 10\n",
    "\n",
    "# CNBPM Dataset\n",
    "!python -u run.py --task_name classification --is_training 1 --root_path ./dataset/CNBPM/ --model_id CNBPM-Indep-7C --model FEDformer --data CNBPM7CIndep --e_layers 6 --batch_size 128 --d_model 128 --d_ff 256 --des 'Exp' --itr 5 --learning_rate 0.0001 --train_epochs 100 --patience 10\n",
    "\n",
    "end_time = datetime.now()\n",
    "print(f'Duration: {end_time - start_time}')"
   ],
   "metadata": {
    "collapsed": false
   }
  },
  {
   "cell_type": "markdown",
   "source": [
    "#### Informer"
   ],
   "metadata": {
    "collapsed": false
   }
  },
  {
   "cell_type": "code",
   "execution_count": null,
   "outputs": [],
   "source": [
    "start_time = datetime.now()\n",
    "\n",
    "# ADFD Dataset\n",
    "!python -u run.py --task_name classification --is_training 1 --root_path ./dataset/ADFD/ --model_id ADFD-Indep-7C --model Informer --data ADFD7CIndep --e_layers 6 --batch_size 128 --d_model 128 --d_ff 256 --des 'Exp' --itr 5 --learning_rate 0.0001 --train_epochs 100 --patience 10\n",
    "\n",
    "# CNBPM Dataset\n",
    "!python -u run.py --task_name classification --is_training 1 --root_path ./dataset/CNBPM/ --model_id CNBPM-Indep-7C --model Informer --data CNBPM7CIndep --e_layers 6 --batch_size 128 --d_model 128 --d_ff 256 --des 'Exp' --itr 5 --learning_rate 0.0001 --train_epochs 100 --patience 10\n",
    "\n",
    "end_time = datetime.now()\n",
    "print(f'Duration: {end_time - start_time}')"
   ],
   "metadata": {
    "collapsed": false
   }
  },
  {
   "cell_type": "markdown",
   "source": [
    "#### MICN"
   ],
   "metadata": {
    "collapsed": false
   }
  },
  {
   "cell_type": "code",
   "execution_count": null,
   "outputs": [],
   "source": [
    "start_time = datetime.now()\n",
    "\n",
    "# ADFD Dataset\n",
    "!python -u run.py --task_name classification --is_training 1 --root_path ./dataset/ADFD/ --model_id ADFD-Indep-7C --model MICN --data ADFD7CIndep --e_layers 6 --batch_size 128 --d_model 128 --d_ff 256 --des 'Exp' --itr 5 --learning_rate 0.0001 --train_epochs 100 --patience 10\n",
    "\n",
    "# CNBPM Dataset\n",
    "!python -u run.py --task_name classification --is_training 1 --root_path ./dataset/CNBPM/ --model_id CNBPM-Indep-7C --model MICN --data CNBPM7CIndep --e_layers 6 --batch_size 128 --d_model 128 --d_ff 256 --des 'Exp' --itr 5 --learning_rate 0.0001 --train_epochs 100 --patience 10\n",
    "\n",
    "end_time = datetime.now()\n",
    "print(f'Duration: {end_time - start_time}')"
   ],
   "metadata": {
    "collapsed": false
   }
  },
  {
   "cell_type": "markdown",
   "source": [
    "#### PatchTST"
   ],
   "metadata": {
    "collapsed": false
   }
  },
  {
   "cell_type": "code",
   "execution_count": null,
   "outputs": [],
   "source": [
    "start_time = datetime.now()\n",
    "\n",
    "# ADFD Dataset\n",
    "!python -u run.py --task_name classification --is_training 1 --root_path ./dataset/ADFD/ --model_id ADFD-Indep-7C --model PatchTST --data ADFD7CIndep --e_layers 6 --batch_size 128 --d_model 128 --d_ff 256 --des 'Exp' --itr 5 --learning_rate 0.0001 --train_epochs 100 --patience 10\n",
    "\n",
    "# CNBPM Dataset\n",
    "!python -u run.py --task_name classification --is_training 1 --root_path ./dataset/CNBPM/ --model_id CNBPM-Indep-7C --model PatchTST --data CNBPM7CIndep --e_layers 6 --batch_size 128 --d_model 128 --d_ff 256 --des 'Exp' --itr 5 --learning_rate 0.0001 --train_epochs 100 --patience 10\n",
    "\n",
    "end_time = datetime.now()\n",
    "print(f'Duration: {end_time - start_time}')"
   ],
   "metadata": {
    "collapsed": false
   }
  },
  {
   "cell_type": "markdown",
   "source": [
    "#### Pyraformer"
   ],
   "metadata": {
    "collapsed": false
   }
  },
  {
   "cell_type": "code",
   "execution_count": null,
   "outputs": [],
   "source": [
    "start_time = datetime.now()\n",
    "\n",
    "# ADFD Dataset\n",
    "!python -u run.py --task_name classification --is_training 1 --root_path ./dataset/ADFD/ --model_id ADFD-Indep-7C --model Pyraformer --data ADFD7CIndep --e_layers 6 --batch_size 128 --d_model 128 --d_ff 256 --des 'Exp' --itr 5 --learning_rate 0.0001 --train_epochs 100 --patience 10\n",
    "\n",
    "# CNBPM Dataset\n",
    "!python -u run.py --task_name classification --is_training 1 --root_path ./dataset/CNBPM/ --model_id CNBPM-Indep-7C --model Pyraformer --data CNBPM7CIndep --e_layers 6 --batch_size 128 --d_model 128 --d_ff 256 --des 'Exp' --itr 5 --learning_rate 0.0001 --train_epochs 100 --patience 10\n",
    "\n",
    "end_time = datetime.now()\n",
    "print(f'Duration: {end_time - start_time}')"
   ],
   "metadata": {
    "collapsed": false,
    "pycharm": {
     "is_executing": true
    }
   }
  },
  {
   "cell_type": "markdown",
   "source": [
    "#### Nonformer"
   ],
   "metadata": {
    "collapsed": false
   }
  },
  {
   "cell_type": "code",
   "execution_count": null,
   "outputs": [],
   "source": [
    "start_time = datetime.now()\n",
    "\n",
    "# ADFD Dataset\n",
    "!python -u run.py --task_name classification --is_training 1 --root_path ./dataset/ADFD/ --model_id ADFD-Indep-7C --model Nonformer --data ADFD7CIndep --e_layers 6 --batch_size 128 --d_model 128 --d_ff 256 --des 'Exp' --itr 5 --learning_rate 0.0001 --train_epochs 100 --patience 10\n",
    "\n",
    "# CNBPM Dataset\n",
    "!python -u run.py --task_name classification --is_training 1 --root_path ./dataset/CNBPM/ --model_id CNBPM-Indep-7C --model Nonformer --data CNBPM7CIndep --e_layers 6 --batch_size 128 --d_model 128 --d_ff 256 --des 'Exp' --itr 5 --learning_rate 0.0001 --train_epochs 100 --patience 10\n",
    "\n",
    "end_time = datetime.now()\n",
    "print(f'Duration: {end_time - start_time}')"
   ],
   "metadata": {
    "collapsed": false,
    "pycharm": {
     "is_executing": true
    }
   }
  },
  {
   "cell_type": "markdown",
   "source": [
    "#### Crossformer"
   ],
   "metadata": {
    "collapsed": false
   }
  },
  {
   "cell_type": "code",
   "execution_count": null,
   "outputs": [],
   "source": [
    "start_time = datetime.now()\n",
    "\n",
    "# ADFD Dataset\n",
    "!python -u run.py --task_name classification --is_training 1 --root_path ./dataset/ADFD/ --model_id ADFD-Indep-7C --model Crossformer --data ADFD7CIndep --e_layers 6 --batch_size 128 --d_model 128 --d_ff 256 --des 'Exp' --itr 5 --learning_rate 0.0001 --train_epochs 100 --patience 10\n",
    "\n",
    "# CNBPM Dataset\n",
    "!python -u run.py --task_name classification --is_training 1 --root_path ./dataset/CNBPM/ --model_id CNBPM-Indep-7C --model Crossformer --data CNBPM7CIndep --e_layers 6 --batch_size 128 --d_model 128 --d_ff 256 --des 'Exp' --itr 5 --learning_rate 0.0001 --train_epochs 100 --patience 10\n",
    "\n",
    "end_time = datetime.now()\n",
    "print(f'Duration: {end_time - start_time}')"
   ],
   "metadata": {
    "collapsed": false,
    "pycharm": {
     "is_executing": true
    }
   }
  },
  {
   "cell_type": "markdown",
   "source": [
    "#### iTransformer"
   ],
   "metadata": {
    "collapsed": false
   }
  },
  {
   "cell_type": "code",
   "execution_count": null,
   "outputs": [],
   "source": [
    "start_time = datetime.now()\n",
    "\n",
    "# ADFD Dataset\n",
    "!python -u run.py --task_name classification --is_training 1 --root_path ./dataset/ADFD/ --model_id ADFD-Indep-7C --model iTransformer --data ADFD7CIndep --e_layers 6 --batch_size 128 --d_model 128 --d_ff 256 --des 'Exp' --itr 5 --learning_rate 0.0001 --train_epochs 100 --patience 10\n",
    "\n",
    "# CNBPM Dataset\n",
    "!python -u run.py --task_name classification --is_training 1 --root_path ./dataset/CNBPM/ --model_id CNBPM-Indep-7C --model iTransformer --data CNBPM7CIndep --e_layers 6 --batch_size 128 --d_model 128 --d_ff 256 --des 'Exp' --itr 5 --learning_rate 0.0001 --train_epochs 100 --patience 10\n",
    "\n",
    "end_time = datetime.now()\n",
    "print(f'Duration: {end_time - start_time}')"
   ],
   "metadata": {
    "collapsed": false,
    "pycharm": {
     "is_executing": true
    }
   }
  },
  {
   "cell_type": "markdown",
   "source": [
    "#### Reformer"
   ],
   "metadata": {
    "collapsed": false
   }
  },
  {
   "cell_type": "code",
   "execution_count": null,
   "outputs": [],
   "source": [
    "start_time = datetime.now()\n",
    "\n",
    "# ADFD Dataset\n",
    "!python -u run.py --task_name classification --is_training 1 --root_path ./dataset/ADFD/ --model_id ADFD-Indep-7C --model Reformer --data ADFD7CIndep --e_layers 6 --batch_size 128 --d_model 128 --d_ff 256 --des 'Exp' --itr 5 --learning_rate 0.0001 --train_epochs 100 --patience 10\n",
    "\n",
    "# CNBPM Dataset\n",
    "!python -u run.py --task_name classification --is_training 1 --root_path ./dataset/CNBPM/ --model_id CNBPM-Indep-7C --model Reformer --data CNBPM7CIndep --e_layers 6 --batch_size 128 --d_model 128 --d_ff 256 --des 'Exp' --itr 5 --learning_rate 0.0001 --train_epochs 100 --patience 10\n",
    "\n",
    "end_time = datetime.now()\n",
    "print(f'Duration: {end_time - start_time}')"
   ],
   "metadata": {
    "collapsed": false,
    "pycharm": {
     "is_executing": true
    }
   }
  },
  {
   "cell_type": "markdown",
   "source": [
    "#### MTST"
   ],
   "metadata": {
    "collapsed": false
   }
  },
  {
   "cell_type": "code",
   "execution_count": null,
   "outputs": [],
   "source": [
    "start_time = datetime.now()\n",
    "\n",
    "# ADFD Dataset\n",
    "!python -u run.py --task_name classification --is_training 1 --root_path ./dataset/ADFD/ --model_id ADFD-Indep-7C --model MTST --data ADFD7CIndep --e_layers 6 --batch_size 128 --d_model 128 --d_ff 256 --patch_len_list 8,32,96 --des 'Exp' --itr 5 --learning_rate 0.0001 --train_epochs 100 --patience 10\n",
    "\n",
    "# CNBPM Dataset\n",
    "!python -u run.py --task_name classification --is_training 1 --root_path ./dataset/CNBPM/ --model_id CNBPM-Indep-7C --model MTST --data CNBPM7CIndep --e_layers 6 --batch_size 128 --d_model 128 --d_ff 256 --patch_len_list 8,32,96 --des 'Exp' --itr 5 --learning_rate 0.0001 --train_epochs 100 --patience 10\n",
    "\n",
    "end_time = datetime.now()\n",
    "print(f'Duration: {end_time - start_time}')"
   ],
   "metadata": {
    "collapsed": false
   }
  },
  {
   "cell_type": "markdown",
   "source": [
    "#### Transformer"
   ],
   "metadata": {
    "collapsed": false
   }
  },
  {
   "cell_type": "code",
   "execution_count": null,
   "outputs": [],
   "source": [
    "start_time = datetime.now()\n",
    "\n",
    "# ADFD Dataset\n",
    "!python -u run.py --task_name classification --is_training 1 --root_path ./dataset/ADFD/ --model_id ADFD-Indep-7C --model Transformer --data ADFD7CIndep --e_layers 6 --batch_size 128 --d_model 128 --d_ff 256 --des 'Exp' --itr 5 --learning_rate 0.0001 --train_epochs 100 --patience 10\n",
    "\n",
    "# CNBPM Dataset\n",
    "!python -u run.py --task_name classification --is_training 1 --root_path ./dataset/CNBPM/ --model_id CNBPM-Indep-7C --model Transformer --data CNBPM7CIndep --e_layers 6 --batch_size 128 --d_model 128 --d_ff 256 --des 'Exp' --itr 5 --learning_rate 0.0001 --train_epochs 100 --patience 10\n",
    "\n",
    "end_time = datetime.now()\n",
    "print(f'Duration: {end_time - start_time}')"
   ],
   "metadata": {
    "collapsed": false,
    "pycharm": {
     "is_executing": true
    }
   }
  },
  {
   "cell_type": "markdown",
   "source": [
    "#### TCN"
   ],
   "metadata": {
    "collapsed": false
   }
  },
  {
   "cell_type": "code",
   "execution_count": null,
   "outputs": [],
   "source": [
    "start_time = datetime.now()\n",
    "\n",
    "# ADFD Dataset\n",
    "!python -u run.py --task_name classification --is_training 1 --root_path ./dataset/ADFD/ --model_id ADFD-Indep-7C --model TCN --data ADFD7CIndep --e_layers 6 --batch_size 128 --d_model 128 --d_ff 256 --des 'Exp' --itr 5 --learning_rate 0.0001 --train_epochs 100 --patience 10\n",
    "\n",
    "# CNBPM Dataset\n",
    "!python -u run.py --task_name classification --is_training 1 --root_path ./dataset/CNBPM/ --model_id CNBPM-Indep-7C --model TCN --data CNBPM7CIndep --e_layers 6 --batch_size 128 --d_model 128 --d_ff 256 --des 'Exp' --itr 5 --learning_rate 0.0001 --train_epochs 100 --patience 10\n",
    "\n",
    "end_time = datetime.now()\n",
    "print(f'Duration: {end_time - start_time}')"
   ],
   "metadata": {
    "collapsed": false,
    "pycharm": {
     "is_executing": true
    }
   }
  },
  {
   "cell_type": "markdown",
   "source": [
    "#### EEGNet"
   ],
   "metadata": {
    "collapsed": false
   }
  },
  {
   "cell_type": "code",
   "execution_count": null,
   "outputs": [],
   "source": [
    "start_time = datetime.now()\n",
    "\n",
    "# ADFD Dataset\n",
    "!python -u run.py --task_name classification --is_training 1 --root_path ./dataset/ADFD/ --model_id ADFD-Indep-7C --model EEGNet --data ADFD7CIndep --e_layers 6 --batch_size 128 --d_model 128 --d_ff 256 --des 'Exp' --itr 5 --learning_rate 0.0001 --train_epochs 100 --patience 10\n",
    "\n",
    "# CNBPM Dataset\n",
    "!python -u run.py --task_name classification --is_training 1 --root_path ./dataset/CNBPM/ --model_id CNBPM-Indep-7C --model EEGNet --data CNBPM7CIndep --e_layers 6 --batch_size 128 --d_model 128 --d_ff 256 --des 'Exp' --itr 5 --learning_rate 0.0001 --train_epochs 100 --patience 10\n",
    "\n",
    "end_time = datetime.now()\n",
    "print(f'Duration: {end_time - start_time}')"
   ],
   "metadata": {
    "collapsed": false,
    "pycharm": {
     "is_executing": true
    }
   }
  },
  {
   "cell_type": "markdown",
   "source": [
    "#### StatisticalFeatures"
   ],
   "metadata": {
    "collapsed": false
   }
  },
  {
   "cell_type": "code",
   "execution_count": null,
   "outputs": [],
   "source": [
    "start_time = datetime.now()\n",
    "\n",
    "# ADFD Dataset\n",
    "!python -u run.py --task_name classification --is_training 1 --root_path ./dataset/ADFD/ --model_id ADFD-Indep-7C --model StatisticalFeatures --data ADFD7CIndep --e_layers 6 --batch_size 128 --d_model 128 --d_ff 256 --sampling_rate 256 --des 'Exp' --itr 5 --learning_rate 0.0001 --train_epochs 100 --patience 10\n",
    "\n",
    "# CNBPM Dataset\n",
    "!python -u run.py --task_name classification --is_training 1 --root_path ./dataset/CNBPM/ --model_id CNBPM-Indep-7C --model StatisticalFeatures --data CNBPM7CIndep --e_layers 6 --batch_size 128 --d_model 128 --d_ff 256 --sampling_rate 256 --des 'Exp' --itr 5 --learning_rate 0.0001 --train_epochs 100 --patience 10\n",
    "\n",
    "end_time = datetime.now()\n",
    "print(f'Duration: {end_time - start_time}')"
   ],
   "metadata": {
    "collapsed": false,
    "pycharm": {
     "is_executing": true
    }
   }
  },
  {
   "cell_type": "markdown",
   "source": [
    "#### SpectralFeatures"
   ],
   "metadata": {
    "collapsed": false
   }
  },
  {
   "cell_type": "code",
   "execution_count": null,
   "outputs": [],
   "source": [
    "start_time = datetime.now()\n",
    "\n",
    "# ADFD Dataset\n",
    "!python -u run.py --task_name classification --is_training 1 --root_path ./dataset/ADFD/ --model_id ADFD-Indep-7C --model SpectralFeatures --data ADFD7CIndep --e_layers 6 --batch_size 128 --d_model 128 --d_ff 256 --sampling_rate 256 --des 'Exp' --itr 5 --learning_rate 0.0001 --train_epochs 100 --patience 10\n",
    "\n",
    "# CNBPM Dataset\n",
    "!python -u run.py --task_name classification --is_training 1 --root_path ./dataset/CNBPM/ --model_id CNBPM-Indep-7C --model SpectralFeatures --data CNBPM7CIndep --e_layers 6 --batch_size 128 --d_model 128 --d_ff 256 --sampling_rate 256 --des 'Exp' --itr 5 --learning_rate 0.0001 --train_epochs 100 --patience 10\n",
    "\n",
    "end_time = datetime.now()\n",
    "print(f'Duration: {end_time - start_time}')"
   ],
   "metadata": {
    "collapsed": false
   }
  },
  {
   "cell_type": "markdown",
   "source": [
    "#### PowerFeatures"
   ],
   "metadata": {
    "collapsed": false
   }
  },
  {
   "cell_type": "code",
   "execution_count": null,
   "outputs": [],
   "source": [
    "start_time = datetime.now()\n",
    "\n",
    "# ADFD Dataset\n",
    "!python -u run.py --task_name classification --is_training 1 --root_path ./dataset/ADFD/ --model_id ADFD-Indep-7C --model PowerFeatures --data ADFD7CIndep --e_layers 6 --batch_size 128 --d_model 128 --d_ff 256 --sampling_rate 256 --des 'Exp' --itr 5 --learning_rate 0.0001 --train_epochs 100 --patience 10\n",
    "\n",
    "# CNBPM Dataset\n",
    "!python -u run.py --task_name classification --is_training 1 --root_path ./dataset/CNBPM/ --model_id CNBPM-Indep-7C --model PowerFeatures --data CNBPM7CIndep --e_layers 6 --batch_size 128 --d_model 128 --d_ff 256 --sampling_rate 256 --des 'Exp' --itr 5 --learning_rate 0.0001 --train_epochs 100 --patience 10\n",
    "\n",
    "end_time = datetime.now()\n",
    "print(f'Duration: {end_time - start_time}')"
   ],
   "metadata": {
    "collapsed": false,
    "pycharm": {
     "is_executing": true
    }
   }
  },
  {
   "cell_type": "markdown",
   "source": [
    "#### ComplexityFeatures"
   ],
   "metadata": {
    "collapsed": false
   }
  },
  {
   "cell_type": "code",
   "execution_count": null,
   "outputs": [],
   "source": [
    "start_time = datetime.now()\n",
    "\n",
    "# ADFD Dataset\n",
    "!python -u run.py --task_name classification --is_training 1 --root_path ./dataset/ADFD/ --model_id ADFD-Indep-7C --model ComplexityFeatures --data ADFD7CIndep --e_layers 6 --batch_size 128 --d_model 128 --d_ff 256 --sampling_rate 256 --des 'Exp' --itr 5 --learning_rate 0.0001 --train_epochs 100 --patience 10\n",
    "\n",
    "# CNBPM Dataset\n",
    "!python -u run.py --task_name classification --is_training 1 --root_path ./dataset/CNBPM/ --model_id CNBPM-Indep-7C --model ComplexityFeatures --data CNBPM7CIndep --e_layers 6 --batch_size 128 --d_model 128 --d_ff 256 --sampling_rate 256 --des 'Exp' --itr 5 --learning_rate 0.0001 --train_epochs 100 --patience 10\n",
    "\n",
    "end_time = datetime.now()\n",
    "print(f'Duration: {end_time - start_time}')"
   ],
   "metadata": {
    "collapsed": false
   }
  },
  {
   "cell_type": "markdown",
   "source": [
    "#### ADFormer"
   ],
   "metadata": {
    "collapsed": false
   }
  },
  {
   "cell_type": "code",
   "execution_count": null,
   "outputs": [],
   "source": [
    "\n",
    "# ADFD\n",
    "!python -u run.py --task_name classification --is_training 1 --root_path ./dataset/ADFD/ --model_id ADFD-Indep-7C --model ADformer --data ADFD7CIndep --e_layers 6 --batch_size 128 --d_model 128 --d_ff 256 --patch_len_list 2,2,2,4,4,4 --up_dim_list 19,38,76,152 --augmentations flip1.0,shuffle1.0,frequency0.1,jitter0.4,drop0.4 --swa --des 'Exp' --itr 5 --learning_rate 0.0001 --train_epochs 100 --patience 10\n",
    "\n",
    "# CNBPM\n",
    "!python -u run.py --task_name classification --is_training 1 --root_path ./dataset/CNBPM/ --model_id CNBPM-Indep-7C --model ADformer --data CNBPM7CIndep --e_layers 6 --batch_size 128 --d_model 128 --d_ff 256 --batch_size 128 --d_model 128 --d_ff 256 --patch_len_list 1,1,2,2,2 --up_dim_list 19,38,76,152 --augmentations flip1.0,shuffle1.0,jitter0.4,drop0.4 --swa --des 'Exp' --itr 5 --learning_rate 0.0001 --train_epochs 100 --patience 10"
   ],
   "metadata": {
    "collapsed": false
   }
  }
 ],
 "metadata": {
  "kernelspec": {
   "display_name": "Python 3",
   "language": "python",
   "name": "python3"
  },
  "language_info": {
   "codemirror_mode": {
    "name": "ipython",
    "version": 2
   },
   "file_extension": ".py",
   "mimetype": "text/x-python",
   "name": "python",
   "nbconvert_exporter": "python",
   "pygments_lexer": "ipython2",
   "version": "2.7.6"
  }
 },
 "nbformat": 4,
 "nbformat_minor": 0
}
