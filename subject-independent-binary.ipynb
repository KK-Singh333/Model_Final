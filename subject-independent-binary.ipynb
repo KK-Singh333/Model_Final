{
 "cells": [
  {
   "cell_type": "code",
   "execution_count": 8,
   "metadata": {
    "collapsed": true
   },
   "outputs": [],
   "source": [
    "from datetime import datetime"
   ]
  },
  {
   "cell_type": "markdown",
   "source": [
    "#### TimesNet"
   ],
   "metadata": {
    "collapsed": false
   }
  },
  {
   "cell_type": "code",
   "execution_count": 9,
   "outputs": [
    {
     "name": "stdout",
     "output_type": "stream",
     "text": [
      "Duration: 0:00:00\n"
     ]
    }
   ],
   "source": [
    "start_time = datetime.now()\n",
    "\n",
    "# ADFD Dataset\n",
    "!python -u run.py --task_name classification --is_training 1 --root_path ./dataset/ADFD/ --model_id ADFD-Indep-Binary --model TimesNet --data ADFDBinaryIndep --e_layers 6 --batch_size 128 --d_model 128 --d_ff 256 --top_k 1 --des 'Exp' --itr 5 --learning_rate 0.0001 --train_epochs 100 --patience 10\n",
    "\n",
    "# CNBPM Dataset\n",
    "!python -u run.py --task_name classification --is_training 1 --root_path ./dataset/CNBPM/ --model_id CNBPM-Indep-Binary --model TimesNet --data CNBPMBinaryIndep --e_layers 6 --batch_size 128 --d_model 128 --d_ff 256 --top_k 1 --des 'Exp' --itr 5 --learning_rate 0.0001 --train_epochs 100 --patience 10\n",
    "\n",
    "end_time = datetime.now()\n",
    "print(f'Duration: {end_time - start_time}')"
   ],
   "metadata": {
    "collapsed": false
   }
  },
  {
   "cell_type": "markdown",
   "source": [
    "#### Autoformer"
   ],
   "metadata": {
    "collapsed": false
   }
  },
  {
   "cell_type": "code",
   "execution_count": 10,
   "outputs": [
    {
     "name": "stdout",
     "output_type": "stream",
     "text": [
      "Duration: 0:00:00\n"
     ]
    }
   ],
   "source": [
    "start_time = datetime.now()\n",
    "\n",
    "# ADFD Dataset\n",
    "!python -u run.py --task_name classification --is_training 1 --root_path ./dataset/ADFD/ --model_id ADFD-Indep-Binary --model Autoformer --data ADFDBinaryIndep --e_layers 6 --batch_size 128 --d_model 128 --d_ff 256 --des 'Exp' --itr 5 --learning_rate 0.0001 --train_epochs 100 --patience 10\n",
    "\n",
    "# CNBPM Dataset\n",
    "!python -u run.py --task_name classification --is_training 1 --root_path ./dataset/CNBPM/ --model_id CNBPM-Indep-Binary --model Autoformer --data CNBPMBinaryIndep --e_layers 6 --batch_size 128 --d_model 128 --d_ff 256 --des 'Exp' --itr 5 --learning_rate 0.0001 --train_epochs 100 --patience 10\n",
    "\n",
    "end_time = datetime.now()\n",
    "print(f'Duration: {end_time - start_time}')"
   ],
   "metadata": {
    "collapsed": false
   }
  },
  {
   "cell_type": "markdown",
   "source": [
    "#### FEDformer"
   ],
   "metadata": {
    "collapsed": false
   }
  },
  {
   "cell_type": "code",
   "execution_count": null,
   "outputs": [],
   "source": [
    "start_time = datetime.now()\n",
    "\n",
    "# ADFD Dataset\n",
    "!python -u run.py --task_name classification --is_training 1 --root_path ./dataset/ADFD/ --model_id ADFD-Indep-Binary --model FEDformer --data ADFDBinaryIndep --e_layers 6 --batch_size 128 --d_model 128 --d_ff 256 --des 'Exp' --itr 5 --learning_rate 0.0001 --train_epochs 100 --patience 10\n",
    "\n",
    "# CNBPM Dataset\n",
    "!python -u run.py --task_name classification --is_training 1 --root_path ./dataset/CNBPM/ --model_id CNBPM-Indep-Binary --model FEDformer --data CNBPMBinaryIndep --e_layers 6 --batch_size 128 --d_model 128 --d_ff 256 --des 'Exp' --itr 5 --learning_rate 0.0001 --train_epochs 100 --patience 10\n",
    "\n",
    "end_time = datetime.now()\n",
    "print(f'Duration: {end_time - start_time}')"
   ],
   "metadata": {
    "collapsed": false,
    "pycharm": {
     "is_executing": true
    }
   }
  },
  {
   "cell_type": "markdown",
   "source": [
    "#### Informer"
   ],
   "metadata": {
    "collapsed": false
   }
  },
  {
   "cell_type": "code",
   "execution_count": null,
   "outputs": [],
   "source": [
    "start_time = datetime.now()\n",
    "\n",
    "# ADFD Dataset\n",
    "!python -u run.py --task_name classification --is_training 1 --root_path ./dataset/ADFD/ --model_id ADFD-Indep-Binary --model Informer --data ADFDBinaryIndep --e_layers 6 --batch_size 128 --d_model 128 --d_ff 256 --des 'Exp' --itr 5 --learning_rate 0.0001 --train_epochs 100 --patience 10\n",
    "\n",
    "# CNBPM Dataset\n",
    "!python -u run.py --task_name classification --is_training 1 --root_path ./dataset/CNBPM/ --model_id CNBPM-Indep-Binary --model Informer --data CNBPMBinaryIndep --e_layers 6 --batch_size 128 --d_model 128 --d_ff 256 --des 'Exp' --itr 5 --learning_rate 0.0001 --train_epochs 100 --patience 10\n",
    "\n",
    "end_time = datetime.now()\n",
    "print(f'Duration: {end_time - start_time}')"
   ],
   "metadata": {
    "collapsed": false,
    "pycharm": {
     "is_executing": true
    }
   }
  },
  {
   "cell_type": "markdown",
   "source": [
    "#### MICN"
   ],
   "metadata": {
    "collapsed": false
   }
  },
  {
   "cell_type": "code",
   "execution_count": null,
   "outputs": [],
   "source": [
    "start_time = datetime.now()\n",
    "\n",
    "# ADFD Dataset\n",
    "!python -u run.py --task_name classification --is_training 1 --root_path ./dataset/ADFD/ --model_id ADFD-Indep-Binary --model MICN --data ADFDBinaryIndep --e_layers 6 --batch_size 128 --d_model 128 --d_ff 256 --des 'Exp' --itr 5 --learning_rate 0.0001 --train_epochs 100 --patience 10\n",
    "\n",
    "# CNBPM Dataset\n",
    "!python -u run.py --task_name classification --is_training 1 --root_path ./dataset/CNBPM/ --model_id CNBPM-Indep-Binary --model MICN --data CNBPMBinaryIndep --e_layers 6 --batch_size 128 --d_model 128 --d_ff 256 --des 'Exp' --itr 5 --learning_rate 0.0001 --train_epochs 100 --patience 10\n",
    "\n",
    "end_time = datetime.now()\n",
    "print(f'Duration: {end_time - start_time}')"
   ],
   "metadata": {
    "collapsed": false,
    "pycharm": {
     "is_executing": true
    }
   }
  },
  {
   "cell_type": "markdown",
   "source": [
    "#### PatchTST"
   ],
   "metadata": {
    "collapsed": false
   }
  },
  {
   "cell_type": "code",
   "execution_count": null,
   "outputs": [],
   "source": [
    "start_time = datetime.now()\n",
    "\n",
    "# ADFD Dataset\n",
    "!python -u run.py --task_name classification --is_training 1 --root_path ./dataset/ADFD/ --model_id ADFD-Indep-Binary --model PatchTST --data ADFDBinaryIndep --e_layers 6 --batch_size 128 --d_model 128 --d_ff 256 --des 'Exp' --itr 5 --learning_rate 0.0001 --train_epochs 100 --patience 10\n",
    "\n",
    "# CNBPM Dataset\n",
    "!python -u run.py --task_name classification --is_training 1 --root_path ./dataset/CNBPM/ --model_id CNBPM-Indep-Binary --model PatchTST --data CNBPMBinaryIndep --e_layers 6 --batch_size 128 --d_model 128 --d_ff 256 --des 'Exp' --itr 5 --learning_rate 0.0001 --train_epochs 100 --patience 10\n",
    "\n",
    "end_time = datetime.now()\n",
    "print(f'Duration: {end_time - start_time}')"
   ],
   "metadata": {
    "collapsed": false,
    "pycharm": {
     "is_executing": true
    }
   }
  },
  {
   "cell_type": "markdown",
   "source": [
    "#### Pyraformer"
   ],
   "metadata": {
    "collapsed": false
   }
  },
  {
   "cell_type": "code",
   "execution_count": null,
   "outputs": [],
   "source": [
    "start_time = datetime.now()\n",
    "\n",
    "# ADFD Dataset\n",
    "!python -u run.py --task_name classification --is_training 1 --root_path ./dataset/ADFD/ --model_id ADFD-Indep-Binary --model Pyraformer --data ADFDBinaryIndep --e_layers 6 --batch_size 128 --d_model 128 --d_ff 256 --des 'Exp' --itr 5 --learning_rate 0.0001 --train_epochs 100 --patience 10\n",
    "\n",
    "# CNBPM Dataset\n",
    "!python -u run.py --task_name classification --is_training 1 --root_path ./dataset/CNBPM/ --model_id CNBPM-Indep-Binary --model Pyraformer --data CNBPMBinaryIndep --e_layers 6 --batch_size 128 --d_model 128 --d_ff 256 --des 'Exp' --itr 5 --learning_rate 0.0001 --train_epochs 100 --patience 10\n",
    "\n",
    "end_time = datetime.now()\n",
    "print(f'Duration: {end_time - start_time}')"
   ],
   "metadata": {
    "collapsed": false,
    "pycharm": {
     "is_executing": true
    }
   }
  },
  {
   "cell_type": "markdown",
   "source": [
    "#### Nonformer"
   ],
   "metadata": {
    "collapsed": false
   }
  },
  {
   "cell_type": "code",
   "execution_count": null,
   "outputs": [],
   "source": [
    "start_time = datetime.now()\n",
    "\n",
    "# ADFD Dataset\n",
    "!python -u run.py --task_name classification --is_training 1 --root_path ./dataset/ADFD/ --model_id ADFD-Indep-Binary --model Nonformer --data ADFDBinaryIndep --e_layers 6 --batch_size 128 --d_model 128 --d_ff 256 --des 'Exp' --itr 5 --learning_rate 0.0001 --train_epochs 100 --patience 10\n",
    "\n",
    "# CNBPM Dataset\n",
    "!python -u run.py --task_name classification --is_training 1 --root_path ./dataset/CNBPM/ --model_id CNBPM-Indep-Binary --model Nonformer --data CNBPMBinaryIndep --e_layers 6 --batch_size 128 --d_model 128 --d_ff 256 --des 'Exp' --itr 5 --learning_rate 0.0001 --train_epochs 100 --patience 10\n",
    "\n",
    "end_time = datetime.now()\n",
    "print(f'Duration: {end_time - start_time}')"
   ],
   "metadata": {
    "collapsed": false,
    "pycharm": {
     "is_executing": true
    }
   }
  },
  {
   "cell_type": "markdown",
   "source": [
    "#### Crossformer"
   ],
   "metadata": {
    "collapsed": false
   }
  },
  {
   "cell_type": "code",
   "execution_count": null,
   "outputs": [],
   "source": [
    "start_time = datetime.now()\n",
    "\n",
    "# ADFD Dataset\n",
    "!python -u run.py --task_name classification --is_training 1 --root_path ./dataset/ADFD/ --model_id ADFD-Indep-Binary --model Crossformer --data ADFDBinaryIndep --e_layers 6 --batch_size 128 --d_model 128 --d_ff 256 --des 'Exp' --itr 5 --learning_rate 0.0001 --train_epochs 100 --patience 10\n",
    "\n",
    "# CNBPM Dataset\n",
    "!python -u run.py --task_name classification --is_training 1 --root_path ./dataset/CNBPM/ --model_id CNBPM-Indep-Binary --model Crossformer --data CNBPMBinaryIndep --e_layers 6 --batch_size 128 --d_model 128 --d_ff 256 --des 'Exp' --itr 5 --learning_rate 0.0001 --train_epochs 100 --patience 10\n",
    "\n",
    "end_time = datetime.now()\n",
    "print(f'Duration: {end_time - start_time}')"
   ],
   "metadata": {
    "collapsed": false,
    "pycharm": {
     "is_executing": true
    }
   }
  },
  {
   "cell_type": "markdown",
   "source": [
    "#### iTransformer"
   ],
   "metadata": {
    "collapsed": false
   }
  },
  {
   "cell_type": "code",
   "execution_count": null,
   "outputs": [],
   "source": [
    "start_time = datetime.now()\n",
    "\n",
    "# ADFD Dataset\n",
    "!python -u run.py --task_name classification --is_training 1 --root_path ./dataset/ADFD/ --model_id ADFD-Indep-Binary --model iTransformer --data ADFDBinaryIndep --e_layers 6 --batch_size 128 --d_model 128 --d_ff 256 --des 'Exp' --itr 5 --learning_rate 0.0001 --train_epochs 100 --patience 10\n",
    "\n",
    "# CNBPM Dataset\n",
    "!python -u run.py --task_name classification --is_training 1 --root_path ./dataset/CNBPM/ --model_id CNBPM-Indep-Binary --model iTransformer --data CNBPMBinaryIndep --e_layers 6 --batch_size 128 --d_model 128 --d_ff 256 --des 'Exp' --itr 5 --learning_rate 0.0001 --train_epochs 100 --patience 10\n",
    "\n",
    "end_time = datetime.now()\n",
    "print(f'Duration: {end_time - start_time}')"
   ],
   "metadata": {
    "collapsed": false,
    "pycharm": {
     "is_executing": true
    }
   }
  },
  {
   "cell_type": "markdown",
   "source": [
    "#### Reformer"
   ],
   "metadata": {
    "collapsed": false
   }
  },
  {
   "cell_type": "code",
   "execution_count": null,
   "outputs": [],
   "source": [
    "start_time = datetime.now()\n",
    "\n",
    "# ADFD Dataset\n",
    "!python -u run.py --task_name classification --is_training 1 --root_path ./dataset/ADFD/ --model_id ADFD-Indep-Binary --model Reformer --data ADFDBinaryIndep --e_layers 6 --batch_size 128 --d_model 128 --d_ff 256 --des 'Exp' --itr 5 --learning_rate 0.0001 --train_epochs 100 --patience 10\n",
    "\n",
    "# CNBPM Dataset\n",
    "!python -u run.py --task_name classification --is_training 1 --root_path ./dataset/CNBPM/ --model_id CNBPM-Indep-Binary --model Reformer --data CNBPMBinaryIndep --e_layers 6 --batch_size 128 --d_model 128 --d_ff 256 --des 'Exp' --itr 5 --learning_rate 0.0001 --train_epochs 100 --patience 10\n",
    "\n",
    "end_time = datetime.now()\n",
    "print(f'Duration: {end_time - start_time}')"
   ],
   "metadata": {
    "collapsed": false,
    "pycharm": {
     "is_executing": true
    }
   }
  },
  {
   "cell_type": "markdown",
   "source": [
    "#### MTST"
   ],
   "metadata": {
    "collapsed": false
   }
  },
  {
   "cell_type": "code",
   "execution_count": null,
   "outputs": [],
   "source": [
    "start_time = datetime.now()\n",
    "\n",
    "# ADFD Dataset\n",
    "!python -u run.py --task_name classification --is_training 1 --root_path ./dataset/ADFD/ --model_id ADFD-Indep-Binary --model MTST --data ADFDBinaryIndep --e_layers 6 --batch_size 128 --d_model 128 --d_ff 256 --patch_len_list 8,32,96 --des 'Exp' --itr 5 --learning_rate 0.0001 --train_epochs 100 --patience 10\n",
    "\n",
    "# CNBPM Dataset\n",
    "!python -u run.py --task_name classification --is_training 1 --root_path ./dataset/CNBPM/ --model_id CNBPM-Indep-Binary --model MTST --data CNBPMBinaryIndep --e_layers 6 --batch_size 128 --d_model 128 --d_ff 256 --patch_len_list 8,32,96 --des 'Exp' --itr 5 --learning_rate 0.0001 --train_epochs 100 --patience 10\n",
    "\n",
    "end_time = datetime.now()\n",
    "print(f'Duration: {end_time - start_time}')"
   ],
   "metadata": {
    "collapsed": false
   }
  },
  {
   "cell_type": "markdown",
   "source": [
    "#### Transformer"
   ],
   "metadata": {
    "collapsed": false
   }
  },
  {
   "cell_type": "code",
   "execution_count": null,
   "outputs": [],
   "source": [
    "start_time = datetime.now()\n",
    "\n",
    "# ADFD Dataset\n",
    "!python -u run.py --task_name classification --is_training 1 --root_path ./dataset/ADFD/ --model_id ADFD-Indep-Binary --model Transformer --data ADFDBinaryIndep --e_layers 6 --batch_size 128 --d_model 128 --d_ff 256 --des 'Exp' --itr 5 --learning_rate 0.0001 --train_epochs 100 --patience 10\n",
    "\n",
    "# CNBPM Dataset\n",
    "!python -u run.py --task_name classification --is_training 1 --root_path ./dataset/CNBPM/ --model_id CNBPM-Indep-Binary --model Transformer --data CNBPMBinaryIndep --e_layers 6 --batch_size 128 --d_model 128 --d_ff 256 --des 'Exp' --itr 5 --learning_rate 0.0001 --train_epochs 100 --patience 10\n",
    "\n",
    "end_time = datetime.now()\n",
    "print(f'Duration: {end_time - start_time}')"
   ],
   "metadata": {
    "collapsed": false,
    "pycharm": {
     "is_executing": true
    }
   }
  },
  {
   "cell_type": "markdown",
   "source": [
    "#### TCN"
   ],
   "metadata": {
    "collapsed": false
   }
  },
  {
   "cell_type": "code",
   "execution_count": null,
   "outputs": [],
   "source": [
    "start_time = datetime.now()\n",
    "\n",
    "# ADFD Dataset\n",
    "!python -u run.py --task_name classification --is_training 1 --root_path ./dataset/ADFD/ --model_id ADFD-Indep-Binary --model TCN --data ADFDBinaryIndep --e_layers 6 --batch_size 128 --d_model 128 --d_ff 256 --des 'Exp' --itr 5 --learning_rate 0.0001 --train_epochs 100 --patience 10\n",
    "\n",
    "# CNBPM Dataset\n",
    "!python -u run.py --task_name classification --is_training 1 --root_path ./dataset/CNBPM/ --model_id CNBPM-Indep-Binary --model TCN --data CNBPMBinaryIndep --e_layers 6 --batch_size 128 --d_model 128 --d_ff 256 --des 'Exp' --itr 5 --learning_rate 0.0001 --train_epochs 100 --patience 10\n",
    "\n",
    "end_time = datetime.now()\n",
    "print(f'Duration: {end_time - start_time}')"
   ],
   "metadata": {
    "collapsed": false,
    "pycharm": {
     "is_executing": true
    }
   }
  },
  {
   "cell_type": "markdown",
   "source": [
    "#### EEGNet"
   ],
   "metadata": {
    "collapsed": false
   }
  },
  {
   "cell_type": "code",
   "execution_count": null,
   "outputs": [],
   "source": [
    "start_time = datetime.now()\n",
    "\n",
    "# ADFD Dataset\n",
    "!python -u run.py --task_name classification --is_training 1 --root_path ./dataset/ADFD/ --model_id ADFD-Indep-Binary --model EEGNet --data ADFDBinaryIndep --e_layers 6 --batch_size 128 --d_model 128 --d_ff 256 --des 'Exp' --itr 5 --learning_rate 0.0001 --train_epochs 100 --patience 10\n",
    "\n",
    "# CNBPM Dataset\n",
    "!python -u run.py --task_name classification --is_training 1 --root_path ./dataset/CNBPM/ --model_id CNBPM-Indep-Binary --model EEGNet --data CNBPMBinaryIndep --e_layers 6 --batch_size 128 --d_model 128 --d_ff 256 --des 'Exp' --itr 5 --learning_rate 0.0001 --train_epochs 100 --patience 10\n",
    "\n",
    "end_time = datetime.now()\n",
    "print(f'Duration: {end_time - start_time}')"
   ],
   "metadata": {
    "collapsed": false,
    "pycharm": {
     "is_executing": true
    }
   }
  },
  {
   "cell_type": "markdown",
   "source": [
    "#### StatisticalFeatures"
   ],
   "metadata": {
    "collapsed": false
   }
  },
  {
   "cell_type": "code",
   "execution_count": null,
   "outputs": [],
   "source": [
    "start_time = datetime.now()\n",
    "\n",
    "# ADFD Dataset\n",
    "!python -u run.py --task_name classification --is_training 1 --root_path ./dataset/ADFD/ --model_id ADFD-Indep-Binary --model StatisticalFeatures --data ADFDBinaryIndep --e_layers 6 --batch_size 128 --d_model 128 --d_ff 256 --sampling_rate 256 --des 'Exp' --itr 5 --learning_rate 0.0001 --train_epochs 100 --patience 10\n",
    "\n",
    "# CNBPM Dataset\n",
    "!python -u run.py --task_name classification --is_training 1 --root_path ./dataset/CNBPM/ --model_id CNBPM-Indep-Binary --model StatisticalFeatures --data CNBPMBinaryIndep --e_layers 6 --batch_size 128 --d_model 128 --d_ff 256 --sampling_rate 256 --des 'Exp' --itr 5 --learning_rate 0.0001 --train_epochs 100 --patience 10\n",
    "\n",
    "end_time = datetime.now()\n",
    "print(f'Duration: {end_time - start_time}')"
   ],
   "metadata": {
    "collapsed": false,
    "pycharm": {
     "is_executing": true
    }
   }
  },
  {
   "cell_type": "markdown",
   "source": [
    "#### SpectralFeatures"
   ],
   "metadata": {
    "collapsed": false
   }
  },
  {
   "cell_type": "code",
   "execution_count": null,
   "outputs": [],
   "source": [
    "start_time = datetime.now()\n",
    "\n",
    "# ADFD Dataset\n",
    "!python -u run.py --task_name classification --is_training 1 --root_path ./dataset/ADFD/ --model_id ADFD-Indep-Binary --model SpectralFeatures --data ADFDBinaryIndep --e_layers 6 --batch_size 128 --d_model 128 --d_ff 256 --sampling_rate 256 --des 'Exp' --itr 5 --learning_rate 0.0001 --train_epochs 100 --patience 10\n",
    "\n",
    "# CNBPM Dataset\n",
    "!python -u run.py --task_name classification --is_training 1 --root_path ./dataset/CNBPM/ --model_id CNBPM-Indep-Binary --model SpectralFeatures --data CNBPMBinaryIndep --e_layers 6 --batch_size 128 --d_model 128 --d_ff 256 --sampling_rate 256 --des 'Exp' --itr 5 --learning_rate 0.0001 --train_epochs 100 --patience 10\n",
    "\n",
    "end_time = datetime.now()\n",
    "print(f'Duration: {end_time - start_time}')"
   ],
   "metadata": {
    "collapsed": false
   }
  },
  {
   "cell_type": "markdown",
   "source": [
    "#### PowerFeatures"
   ],
   "metadata": {
    "collapsed": false
   }
  },
  {
   "cell_type": "code",
   "execution_count": null,
   "outputs": [],
   "source": [
    "start_time = datetime.now()\n",
    "\n",
    "# ADFD Dataset\n",
    "!python -u run.py --task_name classification --is_training 1 --root_path ./dataset/ADFD/ --model_id ADFD-Indep-Binary --model PowerFeatures --data ADFDBinaryIndep --e_layers 6 --batch_size 128 --d_model 128 --d_ff 256 --sampling_rate 256 --des 'Exp' --itr 5 --learning_rate 0.0001 --train_epochs 100 --patience 10\n",
    "\n",
    "# CNBPM Dataset\n",
    "!python -u run.py --task_name classification --is_training 1 --root_path ./dataset/CNBPM/ --model_id CNBPM-Indep-Binary --model PowerFeatures --data CNBPMBinaryIndep --e_layers 6 --batch_size 128 --d_model 128 --d_ff 256 --sampling_rate 256 --des 'Exp' --itr 5 --learning_rate 0.0001 --train_epochs 100 --patience 10\n",
    "\n",
    "end_time = datetime.now()\n",
    "print(f'Duration: {end_time - start_time}')"
   ],
   "metadata": {
    "collapsed": false,
    "pycharm": {
     "is_executing": true
    }
   }
  },
  {
   "cell_type": "markdown",
   "source": [
    "#### ComplexityFeatures"
   ],
   "metadata": {
    "collapsed": false
   }
  },
  {
   "cell_type": "code",
   "execution_count": null,
   "outputs": [],
   "source": [
    "start_time = datetime.now()\n",
    "\n",
    "# ADFD Dataset\n",
    "!python -u run.py --task_name classification --is_training 1 --root_path ./dataset/ADFD/ --model_id ADFD-Indep-Binary --model ComplexityFeatures --data ADFDBinaryIndep --e_layers 6 --batch_size 128 --d_model 128 --d_ff 256 --sampling_rate 256 --des 'Exp' --itr 5 --learning_rate 0.0001 --train_epochs 100 --patience 10\n",
    "\n",
    "# CNBPM Dataset\n",
    "!python -u run.py --task_name classification --is_training 1 --root_path ./dataset/CNBPM/ --model_id CNBPM-Indep-Binary --model ComplexityFeatures --data CNBPMBinaryIndep --e_layers 6 --batch_size 128 --d_model 128 --d_ff 256 --sampling_rate 256 --des 'Exp' --itr 5 --learning_rate 0.0001 --train_epochs 100 --patience 10\n",
    "\n",
    "end_time = datetime.now()\n",
    "print(f'Duration: {end_time - start_time}')"
   ],
   "metadata": {
    "collapsed": false,
    "pycharm": {
     "is_executing": true
    }
   }
  },
  {
   "cell_type": "markdown",
   "source": [
    "#### ADFormer"
   ],
   "metadata": {
    "collapsed": false
   }
  },
  {
   "cell_type": "code",
   "execution_count": null,
   "outputs": [],
   "source": [
    "\n",
    "# ADFD\n",
    "!python -u run.py --task_name classification --is_training 1 --root_path ./dataset/ADFD/ --model_id ADFD-Indep-Binary --model ADformer --data ADFDBinaryIndep --e_layers 6 --batch_size 128 --d_model 128 --d_ff 256 --patch_len_list 4 --up_dim_list 19,19,19,19 --augmentations flip1.0,shuffle1.0,frequency0.1,jitter0.4,drop0.4 --swa --des 'Exp' --itr 5 --learning_rate 0.0001 --train_epochs 100 --patience 10\n",
    "\n",
    "# CNBPM\n",
    "!python -u run.py --task_name classification --is_training 1 --root_path ./dataset/CNBPM/ --model_id CNBPM-Indep-Binary --model ADformer --data CNBPMBinaryIndep --e_layers 6 --batch_size 128 --d_model 128 --d_ff 256 --batch_size 128 --d_model 128 --d_ff 256 --patch_len_list 1,2,4,8 --up_dim_list 19,38,76,152 --augmentations jitter --swa --des 'Exp' --itr 5 --learning_rate 0.0001 --train_epochs 100 --patience 10"
   ],
   "metadata": {
    "collapsed": false
   }
  }
 ],
 "metadata": {
  "kernelspec": {
   "display_name": "Python 3",
   "language": "python",
   "name": "python3"
  },
  "language_info": {
   "codemirror_mode": {
    "name": "ipython",
    "version": 2
   },
   "file_extension": ".py",
   "mimetype": "text/x-python",
   "name": "python",
   "nbconvert_exporter": "python",
   "pygments_lexer": "ipython2",
   "version": "2.7.6"
  }
 },
 "nbformat": 4,
 "nbformat_minor": 0
}
