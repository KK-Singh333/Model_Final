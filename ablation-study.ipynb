{
 "cells": [
  {
   "cell_type": "markdown",
   "source": [
    "#### Augmentation Study"
   ],
   "metadata": {
    "collapsed": false
   }
  },
  {
   "cell_type": "code",
   "execution_count": null,
   "outputs": [],
   "source": [
    "# ADFD\n",
    "!python -u run.py --task_name classification --is_training 1 --root_path ./dataset/ADFD/ --model_id ADFD-Ablation-Aug --model ADformer --data ADFDBinaryIndep --e_layers 6 --batch_size 128 --d_model 128 --d_ff 256 --patch_len_list 1,2,4,8 --up_dim_list 19,38,76,152 --augmentations flip --swa --des 'Exp' --itr 5 --learning_rate 0.0001 --train_epochs 100 --patience 10\n",
    "!python -u run.py --task_name classification --is_training 1 --root_path ./dataset/ADFD/ --model_id ADFD-Ablation-Aug --model ADformer --data ADFDBinaryIndep --e_layers 6 --batch_size 128 --d_model 128 --d_ff 256 --patch_len_list 1,2,4,8 --up_dim_list 19,38,76,152 --augmentations shuffle --swa --des 'Exp' --itr 5 --learning_rate 0.0001 --train_epochs 100 --patience 10\n",
    "!python -u run.py --task_name classification --is_training 1 --root_path ./dataset/ADFD/ --model_id ADFD-Ablation-Aug --model ADformer --data ADFDBinaryIndep --e_layers 6 --batch_size 128 --d_model 128 --d_ff 256 --patch_len_list 1,2,4,8 --up_dim_list 19,38,76,152 --augmentations frequency --swa --des 'Exp' --itr 5 --learning_rate 0.0001 --train_epochs 100 --patience 10\n",
    "!python -u run.py --task_name classification --is_training 1 --root_path ./dataset/ADFD/ --model_id ADFD-Ablation-Aug --model ADformer --data ADFDBinaryIndep --e_layers 6 --batch_size 128 --d_model 128 --d_ff 256 --patch_len_list 1,2,4,8 --up_dim_list 19,38,76,152 --augmentations jitter --swa --des 'Exp' --itr 5 --learning_rate 0.0001 --train_epochs 100 --patience 10\n",
    "!python -u run.py --task_name classification --is_training 1 --root_path ./dataset/ADFD/ --model_id ADFD-Ablation-Aug --model ADformer --data ADFDBinaryIndep --e_layers 6 --batch_size 128 --d_model 128 --d_ff 256 --patch_len_list 1,2,4,8 --up_dim_list 19,38,76,152 --augmentations drop --swa --des 'Exp' --itr 5 --learning_rate 0.0001 --train_epochs 100 --patience 10\n",
    "!python -u run.py --task_name classification --is_training 1 --root_path ./dataset/ADFD/ --model_id ADFD-Ablation-Aug --model ADformer --data ADFDBinaryIndep --e_layers 6 --batch_size 128 --d_model 128 --d_ff 256 --patch_len_list 1,2,4,8 --up_dim_list 19,38,76,152 --augmentations flip,shuffle,frequency,jitter,drop --swa --des 'Exp' --itr 5 --learning_rate 0.0001 --train_epochs 100 --patience 10\n",
    "\n",
    "# CNBPM\n",
    "!python -u run.py --task_name classification --is_training 1 --root_path ./dataset/CNBPM/ --model_id CNBPM-Ablation-Aug --model ADformer --data CNBPMBinaryIndep --e_layers 6 --batch_size 128 --d_model 128 --d_ff 256 --batch_size 128 --d_model 128 --d_ff 256 --patch_len_list 1,2,4,8 --up_dim_list 19,38,76,152 --augmentations flip --swa --des 'Exp' --itr 5 --learning_rate 0.0001 --train_epochs 100 --patience 10\n",
    "!python -u run.py --task_name classification --is_training 1 --root_path ./dataset/CNBPM/ --model_id CNBPM-Ablation-Aug --model ADformer --data CNBPMBinaryIndep --e_layers 6 --batch_size 128 --d_model 128 --d_ff 256 --batch_size 128 --d_model 128 --d_ff 256 --patch_len_list 1,2,4,8 --up_dim_list 19,38,76,152 --augmentations shuffle --swa --des 'Exp' --itr 5 --learning_rate 0.0001 --train_epochs 100 --patience 10\n",
    "!python -u run.py --task_name classification --is_training 1 --root_path ./dataset/CNBPM/ --model_id CNBPM-Ablation-Aug --model ADformer --data CNBPMBinaryIndep --e_layers 6 --batch_size 128 --d_model 128 --d_ff 256 --batch_size 128 --d_model 128 --d_ff 256 --patch_len_list 1,2,4,8 --up_dim_list 19,38,76,152 --augmentations jitter --swa --des 'Exp' --itr 5 --learning_rate 0.0001 --train_epochs 100 --patience 10\n",
    "!python -u run.py --task_name classification --is_training 1 --root_path ./dataset/CNBPM/ --model_id CNBPM-Ablation-Aug --model ADformer --data CNBPMBinaryIndep --e_layers 6 --batch_size 128 --d_model 128 --d_ff 256 --batch_size 128 --d_model 128 --d_ff 256 --patch_len_list 1,2,4,8 --up_dim_list 19,38,76,152 --augmentations frequency --swa --des 'Exp' --itr 5 --learning_rate 0.0001 --train_epochs 100 --patience 10\n",
    "!python -u run.py --task_name classification --is_training 1 --root_path ./dataset/CNBPM/ --model_id CNBPM-Ablation-Aug --model ADformer --data CNBPMBinaryIndep --e_layers 6 --batch_size 128 --d_model 128 --d_ff 256 --batch_size 128 --d_model 128 --d_ff 256 --patch_len_list 1,2,4,8 --up_dim_list 19,38,76,152 --augmentations drop --swa --des 'Exp' --itr 5 --learning_rate 0.0001 --train_epochs 100 --patience 10\n",
    "!python -u run.py --task_name classification --is_training 1 --root_path ./dataset/CNBPM/ --model_id CNBPM-Ablation-Aug --model ADformer --data CNBPMBinaryIndep --e_layers 6 --batch_size 128 --d_model 128 --d_ff 256 --batch_size 128 --d_model 128 --d_ff 256 --patch_len_list 1,2,4,8 --up_dim_list 19,38,76,152 --augmentations flip,shuffle,frequency,jitter,drop --swa --des 'Exp' --itr 5 --learning_rate 0.0001 --train_epochs 100 --patience 10"
   ],
   "metadata": {
    "collapsed": false
   }
  },
  {
   "cell_type": "markdown",
   "source": [
    "#### Patch Length Study"
   ],
   "metadata": {
    "collapsed": false
   }
  },
  {
   "cell_type": "code",
   "execution_count": null,
   "outputs": [],
   "source": [
    "!python -u run.py --task_name classification --is_training 1 --root_path ./dataset/ADFD/ --model_id ADFD-Ablation-Patch --model ADformer --data ADFDBinaryIndep --e_layers 6 --batch_size 128 --d_model 128 --d_ff 256 --patch_len_list 1 --up_dim_list 19,38,76,152 --augmentations flip,shuffle,frequency,jitter,drop --swa --des 'Exp' --itr 5 --learning_rate 0.0001 --train_epochs 100 --patience 10\n",
    "!python -u run.py --task_name classification --is_training 1 --root_path ./dataset/ADFD/ --model_id ADFD-Ablation-Patch --model ADformer --data ADFDBinaryIndep --e_layers 6 --batch_size 128 --d_model 128 --d_ff 256 --patch_len_list 2 --up_dim_list 19,38,76,152 --augmentations flip,shuffle,frequency,jitter,drop --swa --des 'Exp' --itr 5 --learning_rate 0.0001 --train_epochs 100 --patience 10\n",
    "!python -u run.py --task_name classification --is_training 1 --root_path ./dataset/ADFD/ --model_id ADFD-Ablation-Patch --model ADformer --data ADFDBinaryIndep --e_layers 6 --batch_size 128 --d_model 128 --d_ff 256 --patch_len_list 4 --up_dim_list 19,38,76,152 --augmentations flip,shuffle,frequency,jitter,drop --swa --des 'Exp' --itr 5 --learning_rate 0.0001 --train_epochs 100 --patience 10\n",
    "!python -u run.py --task_name classification --is_training 1 --root_path ./dataset/ADFD/ --model_id ADFD-Ablation-Patch --model ADformer --data ADFDBinaryIndep --e_layers 6 --batch_size 128 --d_model 128 --d_ff 256 --patch_len_list 8 --up_dim_list 19,38,76,152 --augmentations flip,shuffle,frequency,jitter,drop --swa --des 'Exp' --itr 5 --learning_rate 0.0001 --train_epochs 100 --patience 10\n",
    "!python -u run.py --task_name classification --is_training 1 --root_path ./dataset/ADFD/ --model_id ADFD-Ablation-Patch --model ADformer --data ADFDBinaryIndep --e_layers 6 --batch_size 128 --d_model 128 --d_ff 256 --patch_len_list 1,1,1,1 --up_dim_list 19,38,76,152 --augmentations flip,shuffle,frequency,jitter,drop --swa --des 'Exp' --itr 5 --learning_rate 0.0001 --train_epochs 100 --patience 10\n",
    "!python -u run.py --task_name classification --is_training 1 --root_path ./dataset/ADFD/ --model_id ADFD-Ablation-Patch --model ADformer --data ADFDBinaryIndep --e_layers 6 --batch_size 128 --d_model 128 --d_ff 256 --patch_len_list 2,2,2,2 --up_dim_list 19,38,76,152 --augmentations flip,shuffle,frequency,jitter,drop --swa --des 'Exp' --itr 5 --learning_rate 0.0001 --train_epochs 100 --patience 10\n",
    "!python -u run.py --task_name classification --is_training 1 --root_path ./dataset/ADFD/ --model_id ADFD-Ablation-Patch --model ADformer --data ADFDBinaryIndep --e_layers 6 --batch_size 128 --d_model 128 --d_ff 256 --patch_len_list 4,4,4,4 --up_dim_list 19,38,76,152 --augmentations flip,shuffle,frequency,jitter,drop --swa --des 'Exp' --itr 5 --learning_rate 0.0001 --train_epochs 100 --patience 10\n",
    "!python -u run.py --task_name classification --is_training 1 --root_path ./dataset/ADFD/ --model_id ADFD-Ablation-Patch --model ADformer --data ADFDBinaryIndep --e_layers 6 --batch_size 128 --d_model 128 --d_ff 256 --patch_len_list 8,8,8,8 --up_dim_list 19,38,76,152 --augmentations flip,shuffle,frequency,jitter,drop --swa --des 'Exp' --itr 5 --learning_rate 0.0001 --train_epochs 100 --patience 10\n",
    "\n",
    "\n",
    "!python -u run.py --task_name classification --is_training 1 --root_path ./dataset/CNBPM/ --model_id CNBPM-Ablation-Patch --model ADformer --data CNBPMBinaryIndep --e_layers 6 --batch_size 128 --d_model 128 --d_ff 256 --batch_size 128 --d_model 128 --d_ff 256 --patch_len_list 1 --up_dim_list 19,38,76,152 --augmentations flip,shuffle,frequency,jitter,drop --swa --des 'Exp' --itr 5 --learning_rate 0.0001 --train_epochs 100 --patience 10\n",
    "!python -u run.py --task_name classification --is_training 1 --root_path ./dataset/CNBPM/ --model_id CNBPM-Ablation-Patch --model ADformer --data CNBPMBinaryIndep --e_layers 6 --batch_size 128 --d_model 128 --d_ff 256 --batch_size 128 --d_model 128 --d_ff 256 --patch_len_list 2 --up_dim_list 19,38,76,152 --augmentations flip,shuffle,frequency,jitter,drop --swa --des 'Exp' --itr 5 --learning_rate 0.0001 --train_epochs 100 --patience 10\n",
    "!python -u run.py --task_name classification --is_training 1 --root_path ./dataset/CNBPM/ --model_id CNBPM-Ablation-Patch --model ADformer --data CNBPMBinaryIndep --e_layers 6 --batch_size 128 --d_model 128 --d_ff 256 --batch_size 128 --d_model 128 --d_ff 256 --patch_len_list 4 --up_dim_list 19,38,76,152 --augmentations flip,shuffle,frequency,jitter,drop --swa --des 'Exp' --itr 5 --learning_rate 0.0001 --train_epochs 100 --patience 10\n",
    "!python -u run.py --task_name classification --is_training 1 --root_path ./dataset/CNBPM/ --model_id CNBPM-Ablation-Patch --model ADformer --data CNBPMBinaryIndep --e_layers 6 --batch_size 128 --d_model 128 --d_ff 256 --batch_size 128 --d_model 128 --d_ff 256 --patch_len_list 8 --up_dim_list 19,38,76,152 --augmentations flip,shuffle,frequency,jitter,drop --swa --des 'Exp' --itr 5 --learning_rate 0.0001 --train_epochs 100 --patience 10\n",
    "!python -u run.py --task_name classification --is_training 1 --root_path ./dataset/CNBPM/ --model_id CNBPM-Ablation-Patch --model ADformer --data CNBPMBinaryIndep --e_layers 6 --batch_size 128 --d_model 128 --d_ff 256 --batch_size 128 --d_model 128 --d_ff 256 --patch_len_list 1,1,1,1 --up_dim_list 19,38,76,152 --augmentations flip,shuffle,frequency,jitter,drop --swa --des 'Exp' --itr 5 --learning_rate 0.0001 --train_epochs 100 --patience 10\n",
    "!python -u run.py --task_name classification --is_training 1 --root_path ./dataset/CNBPM/ --model_id CNBPM-Ablation-Patch --model ADformer --data CNBPMBinaryIndep --e_layers 6 --batch_size 128 --d_model 128 --d_ff 256 --batch_size 128 --d_model 128 --d_ff 256 --patch_len_list 2,2,2,2 --up_dim_list 19,38,76,152 --augmentations flip,shuffle,frequency,jitter,drop --swa --des 'Exp' --itr 5 --learning_rate 0.0001 --train_epochs 100 --patience 10\n",
    "!python -u run.py --task_name classification --is_training 1 --root_path ./dataset/CNBPM/ --model_id CNBPM-Ablation-Patch --model ADformer --data CNBPMBinaryIndep --e_layers 6 --batch_size 128 --d_model 128 --d_ff 256 --batch_size 128 --d_model 128 --d_ff 256 --patch_len_list 4,4,4,4 --up_dim_list 19,38,76,152 --augmentations flip,shuffle,frequency,jitter,drop --swa --des 'Exp' --itr 5 --learning_rate 0.0001 --train_epochs 100 --patience 10\n",
    "!python -u run.py --task_name classification --is_training 1 --root_path ./dataset/CNBPM/ --model_id CNBPM-Ablation-Patch --model ADformer --data CNBPMBinaryIndep --e_layers 6 --batch_size 128 --d_model 128 --d_ff 256 --batch_size 128 --d_model 128 --d_ff 256 --patch_len_list 8,8,8,8 --up_dim_list 19,38,76,152 --augmentations flip,shuffle,frequency,jitter,drop --swa --des 'Exp' --itr 5 --learning_rate 0.0001 --train_epochs 100 --patience 10"
   ],
   "metadata": {
    "collapsed": false
   }
  },
  {
   "cell_type": "markdown",
   "source": [
    "#### Channel Number Study"
   ],
   "metadata": {
    "collapsed": false
   }
  },
  {
   "cell_type": "code",
   "execution_count": null,
   "outputs": [],
   "source": [
    "!python -u run.py --task_name classification --is_training 1 --root_path ./dataset/ADFD/ --model_id ADFD-Ablation-Channel --model ADformer --data ADFDBinaryIndep --e_layers 6 --batch_size 128 --d_model 128 --d_ff 256 --patch_len_list 1,2,4,8 --up_dim_list 19 --augmentations flip,shuffle,frequency,jitter,drop --swa --des 'Exp' --itr 5 --learning_rate 0.0001 --train_epochs 100 --patience 10\n",
    "!python -u run.py --task_name classification --is_training 1 --root_path ./dataset/ADFD/ --model_id ADFD-Ablation-Channel --model ADformer --data ADFDBinaryIndep --e_layers 6 --batch_size 128 --d_model 128 --d_ff 256 --patch_len_list 1,2,4,8 --up_dim_list 38 --augmentations flip,shuffle,frequency,jitter,drop --swa --des 'Exp' --itr 5 --learning_rate 0.0001 --train_epochs 100 --patience 10\n",
    "!python -u run.py --task_name classification --is_training 1 --root_path ./dataset/ADFD/ --model_id ADFD-Ablation-Channel --model ADformer --data ADFDBinaryIndep --e_layers 6 --batch_size 128 --d_model 128 --d_ff 256 --patch_len_list 1,2,4,8 --up_dim_list 76 --augmentations flip,shuffle,frequency,jitter,drop --swa --des 'Exp' --itr 5 --learning_rate 0.0001 --train_epochs 100 --patience 10\n",
    "!python -u run.py --task_name classification --is_training 1 --root_path ./dataset/ADFD/ --model_id ADFD-Ablation-Channel --model ADformer --data ADFDBinaryIndep --e_layers 6 --batch_size 128 --d_model 128 --d_ff 256 --patch_len_list 1,2,4,8 --up_dim_list 152 --augmentations flip,shuffle,frequency,jitter,drop --swa --des 'Exp' --itr 5 --learning_rate 0.0001 --train_epochs 100 --patience 10\n",
    "!python -u run.py --task_name classification --is_training 1 --root_path ./dataset/ADFD/ --model_id ADFD-Ablation-Channel --model ADformer --data ADFDBinaryIndep --e_layers 6 --batch_size 128 --d_model 128 --d_ff 256 --patch_len_list 1,2,4,8 --up_dim_list 19,19,19,19 --augmentations flip,shuffle,frequency,jitter,drop --swa --des 'Exp' --itr 5 --learning_rate 0.0001 --train_epochs 100 --patience 10\n",
    "!python -u run.py --task_name classification --is_training 1 --root_path ./dataset/ADFD/ --model_id ADFD-Ablation-Channel --model ADformer --data ADFDBinaryIndep --e_layers 6 --batch_size 128 --d_model 128 --d_ff 256 --patch_len_list 1,2,4,8 --up_dim_list 38,38,38,38 --augmentations flip,shuffle,frequency,jitter,drop --swa --des 'Exp' --itr 5 --learning_rate 0.0001 --train_epochs 100 --patience 10\n",
    "!python -u run.py --task_name classification --is_training 1 --root_path ./dataset/ADFD/ --model_id ADFD-Ablation-Channel --model ADformer --data ADFDBinaryIndep --e_layers 6 --batch_size 128 --d_model 128 --d_ff 256 --patch_len_list 1,2,4,8 --up_dim_list 76,76,76,76 --augmentations flip,shuffle,frequency,jitter,drop --swa --des 'Exp' --itr 5 --learning_rate 0.0001 --train_epochs 100 --patience 10\n",
    "!python -u run.py --task_name classification --is_training 1 --root_path ./dataset/ADFD/ --model_id ADFD-Ablation-Channel --model ADformer --data ADFDBinaryIndep --e_layers 6 --batch_size 128 --d_model 128 --d_ff 256 --patch_len_list 1,2,4,8 --up_dim_list 152,152,152,152 --augmentations flip,shuffle,frequency,jitter,drop --swa --des 'Exp' --itr 5 --learning_rate 0.0001 --train_epochs 100 --patience 10\n",
    "\n",
    "\n",
    "!python -u run.py --task_name classification --is_training 1 --root_path ./dataset/CNBPM/ --model_id CNBPM-Ablation-Channel --model ADformer --data CNBPMBinaryIndep --e_layers 6 --batch_size 128 --d_model 128 --d_ff 256 --batch_size 128 --d_model 128 --d_ff 256 --patch_len_list 1,2,4,8 --up_dim_list 19 --augmentations flip,shuffle,frequency,jitter,drop --swa --des 'Exp' --itr 5 --learning_rate 0.0001 --train_epochs 100 --patience 10\n",
    "!python -u run.py --task_name classification --is_training 1 --root_path ./dataset/CNBPM/ --model_id CNBPM-Ablation-Channel --model ADformer --data CNBPMBinaryIndep --e_layers 6 --batch_size 128 --d_model 128 --d_ff 256 --batch_size 128 --d_model 128 --d_ff 256 --patch_len_list 1,2,4,8 --up_dim_list 38 --augmentations flip,shuffle,frequency,jitter,drop --swa --des 'Exp' --itr 5 --learning_rate 0.0001 --train_epochs 100 --patience 10\n",
    "!python -u run.py --task_name classification --is_training 1 --root_path ./dataset/CNBPM/ --model_id CNBPM-Ablation-Channel --model ADformer --data CNBPMBinaryIndep --e_layers 6 --batch_size 128 --d_model 128 --d_ff 256 --batch_size 128 --d_model 128 --d_ff 256 --patch_len_list 1,2,4,8 --up_dim_list 76 --augmentations flip,shuffle,frequency,jitter,drop --swa --des 'Exp' --itr 5 --learning_rate 0.0001 --train_epochs 100 --patience 10\n",
    "!python -u run.py --task_name classification --is_training 1 --root_path ./dataset/CNBPM/ --model_id CNBPM-Ablation-Channel --model ADformer --data CNBPMBinaryIndep --e_layers 6 --batch_size 128 --d_model 128 --d_ff 256 --batch_size 128 --d_model 128 --d_ff 256 --patch_len_list 1,2,4,8 --up_dim_list 152 --augmentations flip,shuffle,frequency,jitter,drop --swa --des 'Exp' --itr 5 --learning_rate 0.0001 --train_epochs 100 --patience 10\n",
    "!python -u run.py --task_name classification --is_training 1 --root_path ./dataset/CNBPM/ --model_id CNBPM-Ablation-Channel --model ADformer --data CNBPMBinaryIndep --e_layers 6 --batch_size 128 --d_model 128 --d_ff 256 --batch_size 128 --d_model 128 --d_ff 256 --patch_len_list 1,2,4,8 --up_dim_list 19,19,19,19 --augmentations flip,shuffle,frequency,jitter,drop --swa --des 'Exp' --itr 5 --learning_rate 0.0001 --train_epochs 100 --patience 10\n",
    "!python -u run.py --task_name classification --is_training 1 --root_path ./dataset/CNBPM/ --model_id CNBPM-Ablation-Channel --model ADformer --data CNBPMBinaryIndep --e_layers 6 --batch_size 128 --d_model 128 --d_ff 256 --batch_size 128 --d_model 128 --d_ff 256 --patch_len_list 1,2,4,8 --up_dim_list 38,38,38,38 --augmentations flip,shuffle,frequency,jitter,drop --swa --des 'Exp' --itr 5 --learning_rate 0.0001 --train_epochs 100 --patience 10\n",
    "!python -u run.py --task_name classification --is_training 1 --root_path ./dataset/CNBPM/ --model_id CNBPM-Ablation-Channel --model ADformer --data CNBPMBinaryIndep --e_layers 6 --batch_size 128 --d_model 128 --d_ff 256 --batch_size 128 --d_model 128 --d_ff 256 --patch_len_list 1,2,4,8 --up_dim_list 76,76,76,76 --augmentations flip,shuffle,frequency,jitter,drop --swa --des 'Exp' --itr 5 --learning_rate 0.0001 --train_epochs 100 --patience 10\n",
    "!python -u run.py --task_name classification --is_training 1 --root_path ./dataset/CNBPM/ --model_id CNBPM-Ablation-Channel --model ADformer --data CNBPMBinaryIndep --e_layers 6 --batch_size 128 --d_model 128 --d_ff 256 --batch_size 128 --d_model 128 --d_ff 256 --patch_len_list 1,2,4,8 --up_dim_list 152,152,152,152 --augmentations flip,shuffle,frequency,jitter,drop --swa --des 'Exp' --itr 5 --learning_rate 0.0001 --train_epochs 100 --patience 10"
   ],
   "metadata": {
    "collapsed": false
   }
  },
  {
   "cell_type": "markdown",
   "source": [
    "#### Module Study"
   ],
   "metadata": {
    "collapsed": false
   }
  },
  {
   "cell_type": "code",
   "execution_count": null,
   "outputs": [],
   "source": [
    "!python -u run.py --task_name classification --is_training 1 --root_path ./dataset/ADFD/ --model_id ADFD-Ablation-Module --model ADformer --data ADFDBinaryIndep --e_layers 6 --batch_size 128 --d_model 128 --d_ff 256 --patch_len_list 1,2,4,8 --up_dim_list 19,38,76,152 --augmentations none --swa --des 'Exp' --itr 5 --learning_rate 0.0001 --train_epochs 100 --patience 10\n",
    "!python -u run.py --task_name classification --is_training 1 --root_path ./dataset/ADFD/ --model_id ADFD-Ablation-Module --model ADformer --data ADFDBinaryIndep --e_layers 6 --batch_size 128 --d_model 128 --d_ff 256 --patch_len_list 1,2,4,8 --up_dim_list 19,38,76,152 --augmentations flip,shuffle,frequency,jitter,drop --no_inter_attn --swa --des 'Exp' --itr 5 --learning_rate 0.0001 --train_epochs 100 --patience 10\n",
    "!python -u run.py --task_name classification --is_training 1 --root_path ./dataset/ADFD/ --model_id ADFD-Ablation-Module --model ADformer --data ADFDBinaryIndep --e_layers 6 --batch_size 128 --d_model 128 --d_ff 256 --patch_len_list 1,2,4,8 --up_dim_list 19,38,76,152 --augmentations flip,shuffle,frequency,jitter,drop --no_temporal_block --swa --des 'Exp' --itr 5 --learning_rate 0.0001 --train_epochs 100 --patience 10\n",
    "!python -u run.py --task_name classification --is_training 1 --root_path ./dataset/ADFD/ --model_id ADFD-Ablation-Module --model ADformer --data ADFDBinaryIndep --e_layers 6 --batch_size 128 --d_model 128 --d_ff 256 --patch_len_list 1,2,4,8 --up_dim_list 19,38,76,152 --augmentations flip,shuffle,frequency,jitter,drop --no_channel_block --swa --des 'Exp' --itr 5 --learning_rate 0.0001 --train_epochs 100 --patience 10\n",
    "\n",
    "\n",
    "\n",
    "!python -u run.py --task_name classification --is_training 1 --root_path ./dataset/CNBPM/ --model_id CNBPM-Ablation-Module --model ADformer --data CNBPMBinaryIndep --e_layers 6 --batch_size 128 --d_model 128 --d_ff 256 --batch_size 128 --d_model 128 --d_ff 256 --patch_len_list 1,2,4,8 --up_dim_list 19,38,76,152 --augmentations none --swa --des 'Exp' --itr 5 --learning_rate 0.0001 --train_epochs 100 --patience 10\n",
    "!python -u run.py --task_name classification --is_training 1 --root_path ./dataset/CNBPM/ --model_id CNBPM-Ablation-Module --model ADformer --data CNBPMBinaryIndep --e_layers 6 --batch_size 128 --d_model 128 --d_ff 256 --batch_size 128 --d_model 128 --d_ff 256 --patch_len_list 1,2,4,8 --up_dim_list 19,38,76,152 --augmentations flip,shuffle,frequency,jitter,drop --no_inter_attn --swa --des 'Exp' --itr 5 --learning_rate 0.0001 --train_epochs 100 --patience 10\n",
    "!python -u run.py --task_name classification --is_training 1 --root_path ./dataset/CNBPM/ --model_id CNBPM-Ablation-Module --model ADformer --data CNBPMBinaryIndep --e_layers 6 --batch_size 128 --d_model 128 --d_ff 256 --batch_size 128 --d_model 128 --d_ff 256 --patch_len_list 1,2,4,8 --up_dim_list 19,38,76,152 --augmentations flip,shuffle,frequency,jitter,drop --no_temporal_block --swa --des 'Exp' --itr 5 --learning_rate 0.0001 --train_epochs 100 --patience 10\n",
    "!python -u run.py --task_name classification --is_training 1 --root_path ./dataset/CNBPM/ --model_id CNBPM-Ablation-Module --model ADformer --data CNBPMBinaryIndep --e_layers 6 --batch_size 128 --d_model 128 --d_ff 256 --batch_size 128 --d_model 128 --d_ff 256 --patch_len_list 1,2,4,8 --up_dim_list 19,38,76,152 --augmentations flip,shuffle,frequency,jitter,drop --no_channel_block --swa --des 'Exp' --itr 5 --learning_rate 0.0001 --train_epochs 100 --patience 10"
   ],
   "metadata": {
    "collapsed": false
   }
  }
 ],
 "metadata": {
  "kernelspec": {
   "display_name": "Python 3",
   "language": "python",
   "name": "python3"
  },
  "language_info": {
   "codemirror_mode": {
    "name": "ipython",
    "version": 2
   },
   "file_extension": ".py",
   "mimetype": "text/x-python",
   "name": "python",
   "nbconvert_exporter": "python",
   "pygments_lexer": "ipython2",
   "version": "2.7.6"
  }
 },
 "nbformat": 4,
 "nbformat_minor": 0
}
