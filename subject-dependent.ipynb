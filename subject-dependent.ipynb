{
 "cells": [
  {
   "cell_type": "code",
   "metadata": {
    "collapsed": true,
    "ExecuteTime": {
     "end_time": "2024-10-20T17:22:47.674933Z",
     "start_time": "2024-10-20T17:22:47.664935Z"
    }
   },
   "source": [
    "from datetime import datetime"
   ],
   "outputs": [],
   "execution_count": 1
  },
  {
   "cell_type": "markdown",
   "source": [
    "#### TimesNet"
   ],
   "metadata": {
    "collapsed": false
   }
  },
  {
   "cell_type": "code",
   "source": [
    "start_time = datetime.now()\n",
    "\n",
    "# ADSZ Dataset\n",
    "!python -u run.py --task_name classification --is_training 1 --root_path ./dataset/ADSZ/ --model_id ADSZ-Dep --model TimesNet --data ADSZDep --e_layers 6 --batch_size 32 --d_model 128 --d_ff 256 --top_k 1 --des 'Exp' --itr 5 --learning_rate 0.0001 --train_epochs 100 --patience 10\n",
    "\n",
    "# APAVA Dataset\n",
    "!python -u run.py --task_name classification --is_training 1 --root_path ./dataset/APAVA/ --model_id APAVA-Dep --model TimesNet --data APAVADep --e_layers 6 --batch_size 32 --d_model 128 --d_ff 256 --top_k 1 --des 'Exp' --itr 5 --learning_rate 0.0001 --train_epochs 100 --patience 10\n",
    "\n",
    "# ADFD Dataset\n",
    "!python -u run.py --task_name classification --is_training 1 --root_path ./dataset/ADFD/ --model_id ADFD-Dep --model TimesNet --data ADFDDep --e_layers 6 --batch_size 128 --d_model 128 --d_ff 256 --top_k 1 --des 'Exp' --itr 5 --learning_rate 0.0001 --train_epochs 100 --patience 10\n",
    "\n",
    "# CNBPM Dataset\n",
    "!python -u run.py --task_name classification --is_training 1 --root_path ./dataset/CNBPM/ --model_id CNBPM-Dep --model TimesNet --data CNBPMDep --e_layers 6 --batch_size 128 --d_model 128 --d_ff 256 --top_k 1 --des 'Exp' --itr 5 --learning_rate 0.0001 --train_epochs 100 --patience 10\n",
    "\n",
    "# Cognision-ERP Dataset\n",
    "!python -u run.py --task_name classification --is_training 1 --root_path ./dataset/Cognision-ERP/ --model_id Cognision-ERP-Dep --model TimesNet --data COGERPDep --e_layers 6 --batch_size 32 --d_model 128 --d_ff 256 --top_k 1 --des 'Exp' --itr 5 --learning_rate 0.0001 --train_epochs 100 --patience 10\n",
    "\n",
    "end_time = datetime.now()\n",
    "print(f'Duration: {end_time - start_time}')"
   ],
   "metadata": {
    "collapsed": false,
    "jupyter": {
     "is_executing": true
    },
    "ExecuteTime": {
     "start_time": "2024-10-20T17:22:47.675933Z"
    }
   },
   "outputs": [],
   "execution_count": null
  },
  {
   "cell_type": "markdown",
   "source": [
    "#### Autoformer"
   ],
   "metadata": {
    "collapsed": false
   }
  },
  {
   "cell_type": "code",
   "source": [
    "start_time = datetime.now()\n",
    "\n",
    "# ADSZ Dataset\n",
    "!python -u run.py --task_name classification --is_training 1 --root_path ./dataset/ADSZ/ --model_id ADSZ-Dep --model Autoformer --data ADSZDep --e_layers 6 --batch_size 32 --d_model 128 --d_ff 256 --des 'Exp' --itr 5 --learning_rate 0.0001 --train_epochs 100 --patience 10\n",
    "\n",
    "# APAVA Dataset\n",
    "!python -u run.py --task_name classification --is_training 1 --root_path ./dataset/APAVA/ --model_id APAVA-Dep --model Autoformer --data APAVADep --e_layers 6 --batch_size 32 --d_model 128 --d_ff 256 --des 'Exp' --itr 5 --learning_rate 0.0001 --train_epochs 100 --patience 10\n",
    "\n",
    "# ADFD Dataset\n",
    "!python -u run.py --task_name classification --is_training 1 --root_path ./dataset/ADFD/ --model_id ADFD-Dep --model Autoformer --data ADFDDep --e_layers 6 --batch_size 128 --d_model 128 --d_ff 256 --des 'Exp' --itr 5 --learning_rate 0.0001 --train_epochs 100 --patience 10\n",
    "\n",
    "# CNBPM Dataset\n",
    "!python -u run.py --task_name classification --is_training 1 --root_path ./dataset/CNBPM/ --model_id CNBPM-Dep --model Autoformer --data CNBPMDep --e_layers 6 --batch_size 128 --d_model 128 --d_ff 256 --des 'Exp' --itr 5 --learning_rate 0.0001 --train_epochs 100 --patience 10\n",
    "\n",
    "# Cognision-ERP Dataset\n",
    "!python -u run.py --task_name classification --is_training 1 --root_path ./dataset/Cognision-ERP/ --model_id Cognision-ERP-Dep --model Autoformer --data COGERPDep --e_layers 6 --batch_size 32 --d_model 128 --d_ff 256 --des 'Exp' --itr 5 --learning_rate 0.0001 --train_epochs 100 --patience 10\n",
    "\n",
    "end_time = datetime.now()\n",
    "print(f'Duration: {end_time - start_time}')"
   ],
   "metadata": {
    "collapsed": false,
    "jupyter": {
     "is_executing": true
    }
   },
   "outputs": [],
   "execution_count": null
  },
  {
   "cell_type": "markdown",
   "source": [
    "#### FEDformer"
   ],
   "metadata": {
    "collapsed": false
   }
  },
  {
   "cell_type": "code",
   "source": [
    "start_time = datetime.now()\n",
    "\n",
    "# ADSZ Dataset\n",
    "!python -u run.py --task_name classification --is_training 1 --root_path ./dataset/ADSZ/ --model_id ADSZ-Dep --model FEDformer --data ADSZDep --e_layers 6 --batch_size 32 --d_model 128 --d_ff 256 --des 'Exp' --itr 5 --learning_rate 0.0001 --train_epochs 100 --patience 10\n",
    "\n",
    "# APAVA Dataset\n",
    "!python -u run.py --task_name classification --is_training 1 --root_path ./dataset/APAVA/ --model_id APAVA-Dep --model FEDformer --data APAVADep --e_layers 6 --batch_size 32 --d_model 128 --d_ff 256 --des 'Exp' --itr 5 --learning_rate 0.0001 --train_epochs 100 --patience 10\n",
    "\n",
    "# ADFD Dataset\n",
    "!python -u run.py --task_name classification --is_training 1 --root_path ./dataset/ADFD/ --model_id ADFD-Dep --model FEDformer --data ADFDDep --e_layers 6 --batch_size 128 --d_model 128 --d_ff 256 --des 'Exp' --itr 5 --learning_rate 0.0001 --train_epochs 100 --patience 10\n",
    "\n",
    "# CNBPM Dataset\n",
    "!python -u run.py --task_name classification --is_training 1 --root_path ./dataset/CNBPM/ --model_id CNBPM-Dep --model FEDformer --data CNBPMDep --e_layers 6 --batch_size 128 --d_model 128 --d_ff 256 --des 'Exp' --itr 5 --learning_rate 0.0001 --train_epochs 100 --patience 10\n",
    "\n",
    "# Cognision-ERP Dataset\n",
    "!python -u run.py --task_name classification --is_training 1 --root_path ./dataset/Cognision-ERP/ --model_id Cognision-ERP-Dep --model FEDformer --data COGERPDep --e_layers 6 --batch_size 32 --d_model 128 --d_ff 256 --des 'Exp' --itr 5 --learning_rate 0.0001 --train_epochs 100 --patience 10\n",
    "\n",
    "end_time = datetime.now()\n",
    "print(f'Duration: {end_time - start_time}')"
   ],
   "metadata": {
    "collapsed": false,
    "jupyter": {
     "is_executing": true
    }
   },
   "outputs": [],
   "execution_count": null
  },
  {
   "cell_type": "markdown",
   "source": [
    "#### Informer"
   ],
   "metadata": {
    "collapsed": false
   }
  },
  {
   "cell_type": "code",
   "source": [
    "start_time = datetime.now()\n",
    "\n",
    "# ADSZ Dataset\n",
    "!python -u run.py --task_name classification --is_training 1 --root_path ./dataset/ADSZ/ --model_id ADSZ-Dep --model Informer --data ADSZDep --e_layers 6 --batch_size 32 --d_model 128 --d_ff 256 --des 'Exp' --itr 5 --learning_rate 0.0001 --train_epochs 100 --patience 10\n",
    "\n",
    "# APAVA Dataset\n",
    "!python -u run.py --task_name classification --is_training 1 --root_path ./dataset/APAVA/ --model_id APAVA-Dep --model Informer --data APAVADep --e_layers 6 --batch_size 32 --d_model 128 --d_ff 256 --des 'Exp' --itr 5 --learning_rate 0.0001 --train_epochs 100 --patience 10\n",
    "\n",
    "# ADFD Dataset\n",
    "!python -u run.py --task_name classification --is_training 1 --root_path ./dataset/ADFD/ --model_id ADFD-Dep --model Informer --data ADFDDep --e_layers 6 --batch_size 128 --d_model 128 --d_ff 256 --des 'Exp' --itr 5 --learning_rate 0.0001 --train_epochs 100 --patience 10\n",
    "\n",
    "# CNBPM Dataset\n",
    "!python -u run.py --task_name classification --is_training 1 --root_path ./dataset/CNBPM/ --model_id CNBPM-Dep --model Informer --data CNBPMDep --e_layers 6 --batch_size 128 --d_model 128 --d_ff 256 --des 'Exp' --itr 5 --learning_rate 0.0001 --train_epochs 100 --patience 10\n",
    "\n",
    "# Cognision-ERP Dataset\n",
    "!python -u run.py --task_name classification --is_training 1 --root_path ./dataset/Cognision-ERP/ --model_id Cognision-ERP-Dep --model Informer --data COGERPDep --e_layers 6 --batch_size 32 --d_model 128 --d_ff 256 --des 'Exp' --itr 5 --learning_rate 0.0001 --train_epochs 100 --patience 10\n",
    "\n",
    "end_time = datetime.now()\n",
    "print(f'Duration: {end_time - start_time}')"
   ],
   "metadata": {
    "collapsed": false,
    "jupyter": {
     "is_executing": true
    }
   },
   "outputs": [],
   "execution_count": null
  },
  {
   "cell_type": "markdown",
   "source": [
    "#### MICN"
   ],
   "metadata": {
    "collapsed": false
   }
  },
  {
   "cell_type": "code",
   "source": [
    "start_time = datetime.now()\n",
    "\n",
    "# ADSZ Dataset\n",
    "!python -u run.py --task_name classification --is_training 1 --root_path ./dataset/ADSZ/ --model_id ADSZ-Dep --model MICN --data ADSZDep --e_layers 6 --batch_size 32 --d_model 128 --d_ff 256 --des 'Exp' --itr 5 --learning_rate 0.0001 --train_epochs 100 --patience 10\n",
    "\n",
    "# APAVA Dataset\n",
    "!python -u run.py --task_name classification --is_training 1 --root_path ./dataset/APAVA/ --model_id APAVA-Dep --model MICN --data APAVADep --e_layers 6 --batch_size 32 --d_model 128 --d_ff 256 --des 'Exp' --itr 5 --learning_rate 0.0001 --train_epochs 100 --patience 10\n",
    "\n",
    "# ADFD Dataset\n",
    "!python -u run.py --task_name classification --is_training 1 --root_path ./dataset/ADFD/ --model_id ADFD-Dep --model MICN --data ADFDDep --e_layers 6 --batch_size 128 --d_model 128 --d_ff 256 --des 'Exp' --itr 5 --learning_rate 0.0001 --train_epochs 100 --patience 10\n",
    "\n",
    "# CNBPM Dataset\n",
    "!python -u run.py --task_name classification --is_training 1 --root_path ./dataset/CNBPM/ --model_id CNBPM-Dep --model MICN --data CNBPMDep --e_layers 6 --batch_size 128 --d_model 128 --d_ff 256 --des 'Exp' --itr 5 --learning_rate 0.0001 --train_epochs 100 --patience 10\n",
    "\n",
    "# Cognision-ERP Dataset\n",
    "!python -u run.py --task_name classification --is_training 1 --root_path ./dataset/Cognision-ERP/ --model_id Cognision-ERP-Dep --model MICN --data COGERPDep --e_layers 6 --batch_size 32 --d_model 128 --d_ff 256 --des 'Exp' --itr 5 --learning_rate 0.0001 --train_epochs 100 --patience 10\n",
    "\n",
    "end_time = datetime.now()\n",
    "print(f'Duration: {end_time - start_time}')"
   ],
   "metadata": {
    "collapsed": false,
    "jupyter": {
     "is_executing": true
    }
   },
   "outputs": [],
   "execution_count": null
  },
  {
   "cell_type": "markdown",
   "source": [
    "#### PatchTST"
   ],
   "metadata": {
    "collapsed": false
   }
  },
  {
   "cell_type": "code",
   "source": [
    "start_time = datetime.now()\n",
    "\n",
    "# ADSZ Dataset\n",
    "!python -u run.py --task_name classification --is_training 1 --root_path ./dataset/ADSZ/ --model_id ADSZ-Dep --model PatchTST --data ADSZDep --e_layers 6 --batch_size 32 --d_model 128 --d_ff 256 --des 'Exp' --itr 5 --learning_rate 0.0001 --train_epochs 100 --patience 10\n",
    "\n",
    "# APAVA Dataset\n",
    "!python -u run.py --task_name classification --is_training 1 --root_path ./dataset/APAVA/ --model_id APAVA-Dep --model PatchTST --data APAVADep --e_layers 6 --batch_size 32 --d_model 128 --d_ff 256 --des 'Exp' --itr 5 --learning_rate 0.0001 --train_epochs 100 --patience 10\n",
    "\n",
    "# ADFD Dataset\n",
    "!python -u run.py --task_name classification --is_training 1 --root_path ./dataset/ADFD/ --model_id ADFD-Dep --model PatchTST --data ADFDDep --e_layers 6 --batch_size 128 --d_model 128 --d_ff 256 --des 'Exp' --itr 5 --learning_rate 0.0001 --train_epochs 100 --patience 10\n",
    "\n",
    "# CNBPM Dataset\n",
    "!python -u run.py --task_name classification --is_training 1 --root_path ./dataset/CNBPM/ --model_id CNBPM-Dep --model PatchTST --data CNBPMDep --e_layers 6 --batch_size 128 --d_model 128 --d_ff 256 --des 'Exp' --itr 5 --learning_rate 0.0001 --train_epochs 100 --patience 10\n",
    "\n",
    "# Cognision-ERP Dataset\n",
    "!python -u run.py --task_name classification --is_training 1 --root_path ./dataset/Cognision-ERP/ --model_id Cognision-ERP-Dep --model PatchTST --data COGERPDep --e_layers 6 --batch_size 32 --d_model 128 --d_ff 256 --des 'Exp' --itr 5 --learning_rate 0.0001 --train_epochs 100 --patience 10\n",
    "\n",
    "end_time = datetime.now()\n",
    "print(f'Duration: {end_time - start_time}')"
   ],
   "metadata": {
    "collapsed": false,
    "jupyter": {
     "is_executing": true
    }
   },
   "outputs": [],
   "execution_count": null
  },
  {
   "cell_type": "markdown",
   "source": [
    "#### Pyraformer"
   ],
   "metadata": {
    "collapsed": false
   }
  },
  {
   "cell_type": "code",
   "source": [
    "start_time = datetime.now()\n",
    "\n",
    "# ADSZ Dataset\n",
    "!python -u run.py --task_name classification --is_training 1 --root_path ./dataset/ADSZ/ --model_id ADSZ-Dep --model Pyraformer --data ADSZDep --e_layers 6 --batch_size 32 --d_model 128 --d_ff 256 --des 'Exp' --itr 5 --learning_rate 0.0001 --train_epochs 100 --patience 10\n",
    "\n",
    "# APAVA Dataset\n",
    "!python -u run.py --task_name classification --is_training 1 --root_path ./dataset/APAVA/ --model_id APAVA-Dep --model Pyraformer --data APAVADep --e_layers 6 --batch_size 32 --d_model 128 --d_ff 256 --des 'Exp' --itr 5 --learning_rate 0.0001 --train_epochs 100 --patience 10\n",
    "\n",
    "# ADFD Dataset\n",
    "!python -u run.py --task_name classification --is_training 1 --root_path ./dataset/ADFD/ --model_id ADFD-Dep --model Pyraformer --data ADFDDep --e_layers 6 --batch_size 128 --d_model 128 --d_ff 256 --des 'Exp' --itr 5 --learning_rate 0.0001 --train_epochs 100 --patience 10\n",
    "\n",
    "# CNBPM Dataset\n",
    "!python -u run.py --task_name classification --is_training 1 --root_path ./dataset/CNBPM/ --model_id CNBPM-Dep --model Pyraformer --data CNBPMDep --e_layers 6 --batch_size 128 --d_model 128 --d_ff 256 --des 'Exp' --itr 5 --learning_rate 0.0001 --train_epochs 100 --patience 10\n",
    "\n",
    "# Cognision-ERP Dataset\n",
    "!python -u run.py --task_name classification --is_training 1 --root_path ./dataset/Cognision-ERP/ --model_id Cognision-ERP-Dep --model Pyraformer --data COGERPDep --e_layers 6 --batch_size 32 --d_model 128 --d_ff 256 --des 'Exp' --itr 5 --learning_rate 0.0001 --train_epochs 100 --patience 10\n",
    "\n",
    "end_time = datetime.now()\n",
    "print(f'Duration: {end_time - start_time}')"
   ],
   "metadata": {
    "collapsed": false,
    "jupyter": {
     "is_executing": true
    }
   },
   "outputs": [],
   "execution_count": null
  },
  {
   "cell_type": "markdown",
   "source": [
    "#### Nonformer"
   ],
   "metadata": {
    "collapsed": false
   }
  },
  {
   "cell_type": "code",
   "source": [
    "start_time = datetime.now()\n",
    "\n",
    "# ADSZ Dataset\n",
    "!python -u run.py --task_name classification --is_training 1 --root_path ./dataset/ADSZ/ --model_id ADSZ-Dep --model Nonformer --data ADSZDep --e_layers 6 --batch_size 32 --d_model 128 --d_ff 256 --des 'Exp' --itr 5 --learning_rate 0.0001 --train_epochs 100 --patience 10\n",
    "\n",
    "# APAVA Dataset\n",
    "!python -u run.py --task_name classification --is_training 1 --root_path ./dataset/APAVA/ --model_id APAVA-Dep --model Nonformer --data APAVADep --e_layers 6 --batch_size 32 --d_model 128 --d_ff 256 --des 'Exp' --itr 5 --learning_rate 0.0001 --train_epochs 100 --patience 10\n",
    "\n",
    "# ADFD Dataset\n",
    "!python -u run.py --task_name classification --is_training 1 --root_path ./dataset/ADFD/ --model_id ADFD-Dep --model Nonformer --data ADFDDep --e_layers 6 --batch_size 128 --d_model 128 --d_ff 256 --des 'Exp' --itr 5 --learning_rate 0.0001 --train_epochs 100 --patience 10\n",
    "\n",
    "# CNBPM Dataset\n",
    "!python -u run.py --task_name classification --is_training 1 --root_path ./dataset/CNBPM/ --model_id CNBPM-Dep --model Nonformer --data CNBPMDep --e_layers 6 --batch_size 128 --d_model 128 --d_ff 256 --des 'Exp' --itr 5 --learning_rate 0.0001 --train_epochs 100 --patience 10\n",
    "\n",
    "# Cognision-ERP Dataset\n",
    "!python -u run.py --task_name classification --is_training 1 --root_path ./dataset/Cognision-ERP/ --model_id Cognision-ERP-Dep --model Nonformer --data COGERPDep --e_layers 6 --batch_size 32 --d_model 128 --d_ff 256 --des 'Exp' --itr 5 --learning_rate 0.0001 --train_epochs 100 --patience 10\n",
    "\n",
    "end_time = datetime.now()\n",
    "print(f'Duration: {end_time - start_time}')"
   ],
   "metadata": {
    "collapsed": false,
    "jupyter": {
     "is_executing": true
    }
   },
   "outputs": [],
   "execution_count": null
  },
  {
   "cell_type": "markdown",
   "source": [
    "#### Crossformer"
   ],
   "metadata": {
    "collapsed": false
   }
  },
  {
   "cell_type": "code",
   "source": [
    "start_time = datetime.now()\n",
    "\n",
    "# ADSZ Dataset\n",
    "!python -u run.py --task_name classification --is_training 1 --root_path ./dataset/ADSZ/ --model_id ADSZ-Dep --model Crossformer --data ADSZDep --e_layers 6 --batch_size 32 --d_model 128 --d_ff 256 --des 'Exp' --itr 5 --learning_rate 0.0001 --train_epochs 100 --patience 10\n",
    "\n",
    "# APAVA Dataset\n",
    "!python -u run.py --task_name classification --is_training 1 --root_path ./dataset/APAVA/ --model_id APAVA-Dep --model Crossformer --data APAVADep --e_layers 6 --batch_size 32 --d_model 128 --d_ff 256 --des 'Exp' --itr 5 --learning_rate 0.0001 --train_epochs 100 --patience 10\n",
    "\n",
    "# ADFD Dataset\n",
    "!python -u run.py --task_name classification --is_training 1 --root_path ./dataset/ADFD/ --model_id ADFD-Dep --model Crossformer --data ADFDDep --e_layers 6 --batch_size 128 --d_model 128 --d_ff 256 --des 'Exp' --itr 5 --learning_rate 0.0001 --train_epochs 100 --patience 10\n",
    "\n",
    "# CNBPM Dataset\n",
    "!python -u run.py --task_name classification --is_training 1 --root_path ./dataset/CNBPM/ --model_id CNBPM-Dep --model Crossformer --data CNBPMDep --e_layers 6 --batch_size 128 --d_model 128 --d_ff 256 --des 'Exp' --itr 5 --learning_rate 0.0001 --train_epochs 100 --patience 10\n",
    "\n",
    "# Cognision-ERP Dataset\n",
    "!python -u run.py --task_name classification --is_training 1 --root_path ./dataset/Cognision-ERP/ --model_id Cognision-ERP-Dep --model Crossformer --data COGERPDep --e_layers 6 --batch_size 32 --d_model 128 --d_ff 256 --des 'Exp' --itr 5 --learning_rate 0.0001 --train_epochs 100 --patience 10\n",
    "\n",
    "end_time = datetime.now()\n",
    "print(f'Duration: {end_time - start_time}')"
   ],
   "metadata": {
    "collapsed": false,
    "jupyter": {
     "is_executing": true
    }
   },
   "outputs": [],
   "execution_count": null
  },
  {
   "cell_type": "markdown",
   "source": [
    "#### iTransformer"
   ],
   "metadata": {
    "collapsed": false
   }
  },
  {
   "cell_type": "code",
   "source": [
    "start_time = datetime.now()\n",
    "\n",
    "# ADSZ Dataset\n",
    "!python -u run.py --task_name classification --is_training 1 --root_path ./dataset/ADSZ/ --model_id ADSZ-Dep --model iTransformer --data ADSZDep --e_layers 6 --batch_size 32 --d_model 128 --d_ff 256 --des 'Exp' --itr 5 --learning_rate 0.0001 --train_epochs 100 --patience 10\n",
    "\n",
    "# APAVA Dataset\n",
    "!python -u run.py --task_name classification --is_training 1 --root_path ./dataset/APAVA/ --model_id APAVA-Dep --model iTransformer --data APAVADep --e_layers 6 --batch_size 32 --d_model 128 --d_ff 256 --des 'Exp' --itr 5 --learning_rate 0.0001 --train_epochs 100 --patience 10\n",
    "\n",
    "# ADFD Dataset\n",
    "!python -u run.py --task_name classification --is_training 1 --root_path ./dataset/ADFD/ --model_id ADFD-Dep --model iTransformer --data ADFDDep --e_layers 6 --batch_size 128 --d_model 128 --d_ff 256 --des 'Exp' --itr 5 --learning_rate 0.0001 --train_epochs 100 --patience 10\n",
    "\n",
    "# CNBPM Dataset\n",
    "!python -u run.py --task_name classification --is_training 1 --root_path ./dataset/CNBPM/ --model_id CNBPM-Dep --model iTransformer --data CNBPMDep --e_layers 6 --batch_size 128 --d_model 128 --d_ff 256 --des 'Exp' --itr 5 --learning_rate 0.0001 --train_epochs 100 --patience 10\n",
    "\n",
    "# Cognision-ERP Dataset\n",
    "!python -u run.py --task_name classification --is_training 1 --root_path ./dataset/Cognision-ERP/ --model_id Cognision-ERP-Dep --model iTransformer --data COGERPDep --e_layers 6 --batch_size 32 --d_model 128 --d_ff 256 --des 'Exp' --itr 5 --learning_rate 0.0001 --train_epochs 100 --patience 10\n",
    "\n",
    "end_time = datetime.now()\n",
    "print(f'Duration: {end_time - start_time}')"
   ],
   "metadata": {
    "collapsed": false,
    "jupyter": {
     "is_executing": true
    }
   },
   "outputs": [],
   "execution_count": null
  },
  {
   "cell_type": "markdown",
   "source": [
    "#### Reformer"
   ],
   "metadata": {
    "collapsed": false
   }
  },
  {
   "cell_type": "code",
   "source": [
    "start_time = datetime.now()\n",
    "\n",
    "# ADSZ Dataset\n",
    "!python -u run.py --task_name classification --is_training 1 --root_path ./dataset/ADSZ/ --model_id ADSZ-Dep --model Reformer --data ADSZDep --e_layers 6 --batch_size 32 --d_model 128 --d_ff 256 --des 'Exp' --itr 5 --learning_rate 0.0001 --train_epochs 100 --patience 10\n",
    "\n",
    "# APAVA Dataset\n",
    "!python -u run.py --task_name classification --is_training 1 --root_path ./dataset/APAVA/ --model_id APAVA-Dep --model Reformer --data APAVADep --e_layers 6 --batch_size 32 --d_model 128 --d_ff 256 --des 'Exp' --itr 5 --learning_rate 0.0001 --train_epochs 100 --patience 10\n",
    "\n",
    "# ADFD Dataset\n",
    "!python -u run.py --task_name classification --is_training 1 --root_path ./dataset/ADFD/ --model_id ADFD-Dep --model Reformer --data ADFDDep --e_layers 6 --batch_size 128 --d_model 128 --d_ff 256 --des 'Exp' --itr 5 --learning_rate 0.0001 --train_epochs 100 --patience 10\n",
    "\n",
    "# CNBPM Dataset\n",
    "!python -u run.py --task_name classification --is_training 1 --root_path ./dataset/CNBPM/ --model_id CNBPM-Dep --model Reformer --data CNBPMDep --e_layers 6 --batch_size 128 --d_model 128 --d_ff 256 --des 'Exp' --itr 5 --learning_rate 0.0001 --train_epochs 100 --patience 10\n",
    "\n",
    "# Cognision-ERP Dataset\n",
    "!python -u run.py --task_name classification --is_training 1 --root_path ./dataset/Cognision-ERP/ --model_id Cognision-ERP-Dep --model Reformer --data COGERPDep --e_layers 6 --batch_size 32 --d_model 128 --d_ff 256 --des 'Exp' --itr 5 --learning_rate 0.0001 --train_epochs 100 --patience 10\n",
    "\n",
    "end_time = datetime.now()\n",
    "print(f'Duration: {end_time - start_time}')"
   ],
   "metadata": {
    "collapsed": false,
    "jupyter": {
     "is_executing": true
    }
   },
   "outputs": [],
   "execution_count": null
  },
  {
   "cell_type": "markdown",
   "source": [
    "#### MTST"
   ],
   "metadata": {
    "collapsed": false
   }
  },
  {
   "cell_type": "code",
   "source": [
    "start_time = datetime.now()\n",
    "\n",
    "# ADSZ Dataset\n",
    "!python -u run.py --task_name classification --is_training 1 --root_path ./dataset/ADSZ/ --model_id ADSZ-Dep --model MTST --data ADSZDep --e_layers 6 --batch_size 32 --d_model 128 --d_ff 256 --patch_len_list 8,32,96 --des 'Exp' --itr 5 --learning_rate 0.0001 --train_epochs 100 --patience 10\n",
    "\n",
    "# APAVA Dataset\n",
    "!python -u run.py --task_name classification --is_training 1 --root_path ./dataset/APAVA/ --model_id APAVA-Dep --model MTST --data APAVADep --e_layers 6 --batch_size 32 --d_model 128 --d_ff 256 --patch_len_list 8,32,96 --des 'Exp' --itr 5 --learning_rate 0.0001 --train_epochs 100 --patience 10\n",
    "\n",
    "# ADFD Dataset\n",
    "!python -u run.py --task_name classification --is_training 1 --root_path ./dataset/ADFD/ --model_id ADFD-Dep --model MTST --data ADFDDep --e_layers 6 --batch_size 128 --d_model 128 --d_ff 256 --patch_len_list 8,32,96 --des 'Exp' --itr 5 --learning_rate 0.0001 --train_epochs 100 --patience 10\n",
    "\n",
    "# CNBPM Dataset\n",
    "!python -u run.py --task_name classification --is_training 1 --root_path ./dataset/CNBPM/ --model_id CNBPM-Dep --model MTST --data CNBPMDep --e_layers 6 --batch_size 128 --d_model 128 --d_ff 256 --patch_len_list 8,32,96 --des 'Exp' --itr 5 --learning_rate 0.0001 --train_epochs 100 --patience 10\n",
    "\n",
    "# Cognision-ERP Dataset\n",
    "!python -u run.py --task_name classification --is_training 1 --root_path ./dataset/Cognision-ERP/ --model_id Cognision-ERP-Dep --model MTST --data COGERPDep --e_layers 6 --batch_size 32 --d_model 128 --d_ff 256 --patch_len_list 8,32,96 --des 'Exp' --itr 5 --learning_rate 0.0001 --train_epochs 100 --patience 10\n",
    "\n",
    "end_time = datetime.now()\n",
    "print(f'Duration: {end_time - start_time}')"
   ],
   "metadata": {
    "collapsed": false,
    "jupyter": {
     "is_executing": true
    }
   },
   "outputs": [],
   "execution_count": null
  },
  {
   "cell_type": "markdown",
   "source": [
    "#### Transformer"
   ],
   "metadata": {
    "collapsed": false
   }
  },
  {
   "cell_type": "code",
   "source": [
    "start_time = datetime.now()\n",
    "\n",
    "# ADSZ Dataset\n",
    "!python -u run.py --task_name classification --is_training 1 --root_path ./dataset/ADSZ/ --model_id ADSZ-Dep --model Transformer --data ADSZDep --e_layers 6 --batch_size 32 --d_model 128 --d_ff 256 --des 'Exp' --itr 5 --learning_rate 0.0001 --train_epochs 100 --patience 10\n",
    "\n",
    "# APAVA Dataset\n",
    "!python -u run.py --task_name classification --is_training 1 --root_path ./dataset/APAVA/ --model_id APAVA-Dep --model Transformer --data APAVADep --e_layers 6 --batch_size 32 --d_model 128 --d_ff 256 --des 'Exp' --itr 5 --learning_rate 0.0001 --train_epochs 100 --patience 10\n",
    "\n",
    "# ADFD Dataset\n",
    "!python -u run.py --task_name classification --is_training 1 --root_path ./dataset/ADFD/ --model_id ADFD-Dep --model Transformer --data ADFDDep --e_layers 6 --batch_size 128 --d_model 128 --d_ff 256 --des 'Exp' --itr 5 --learning_rate 0.0001 --train_epochs 100 --patience 10\n",
    "\n",
    "# CNBPM Dataset\n",
    "!python -u run.py --task_name classification --is_training 1 --root_path ./dataset/CNBPM/ --model_id CNBPM-Dep --model Transformer --data CNBPMDep --e_layers 6 --batch_size 128 --d_model 128 --d_ff 256 --des 'Exp' --itr 5 --learning_rate 0.0001 --train_epochs 100 --patience 10\n",
    "\n",
    "# Cognision-ERP Dataset\n",
    "!python -u run.py --task_name classification --is_training 1 --root_path ./dataset/Cognision-ERP/ --model_id Cognision-ERP-Dep --model Transformer --data COGERPDep --e_layers 6 --batch_size 32 --d_model 128 --d_ff 256 --des 'Exp' --itr 5 --learning_rate 0.0001 --train_epochs 100 --patience 10\n",
    "\n",
    "end_time = datetime.now()\n",
    "print(f'Duration: {end_time - start_time}')"
   ],
   "metadata": {
    "collapsed": false,
    "jupyter": {
     "is_executing": true
    }
   },
   "outputs": [],
   "execution_count": null
  },
  {
   "cell_type": "markdown",
   "source": [
    "#### TCN"
   ],
   "metadata": {
    "collapsed": false
   }
  },
  {
   "cell_type": "code",
   "source": [
    "start_time = datetime.now()\n",
    "\n",
    "# ADSZ Dataset\n",
    "!python -u run.py --task_name classification --is_training 1 --root_path ./dataset/ADSZ/ --model_id ADSZ-Dep --model TCN --data ADSZDep --e_layers 6 --batch_size 32 --d_model 128 --d_ff 256 --des 'Exp' --itr 5 --learning_rate 0.0001 --train_epochs 100 --patience 10\n",
    "\n",
    "# APAVA Dataset\n",
    "!python -u run.py --task_name classification --is_training 1 --root_path ./dataset/APAVA/ --model_id APAVA-Dep --model TCN --data APAVADep --e_layers 6 --batch_size 32 --d_model 128 --d_ff 256 --des 'Exp' --itr 5 --learning_rate 0.0001 --train_epochs 100 --patience 10\n",
    "\n",
    "# ADFD Dataset\n",
    "!python -u run.py --task_name classification --is_training 1 --root_path ./dataset/ADFD/ --model_id ADFD-Dep --model TCN --data ADFDDep --e_layers 6 --batch_size 128 --d_model 128 --d_ff 256 --des 'Exp' --itr 5 --learning_rate 0.0001 --train_epochs 100 --patience 10\n",
    "\n",
    "# CNBPM Dataset\n",
    "!python -u run.py --task_name classification --is_training 1 --root_path ./dataset/CNBPM/ --model_id CNBPM-Dep --model TCN --data CNBPMDep --e_layers 6 --batch_size 128 --d_model 128 --d_ff 256 --des 'Exp' --itr 5 --learning_rate 0.0001 --train_epochs 100 --patience 10\n",
    "\n",
    "# Cognision-ERP Dataset\n",
    "!python -u run.py --task_name classification --is_training 1 --root_path ./dataset/Cognision-ERP/ --model_id Cognision-ERP-Dep --model TCN --data COGERPDep --e_layers 6 --batch_size 32 --d_model 128 --d_ff 256 --des 'Exp' --itr 5 --learning_rate 0.0001 --train_epochs 100 --patience 10\n",
    "\n",
    "end_time = datetime.now()\n",
    "print(f'Duration: {end_time - start_time}')"
   ],
   "metadata": {
    "collapsed": false,
    "jupyter": {
     "is_executing": true
    }
   },
   "outputs": [],
   "execution_count": null
  },
  {
   "cell_type": "markdown",
   "source": [
    "#### EEGNet"
   ],
   "metadata": {
    "collapsed": false
   }
  },
  {
   "cell_type": "code",
   "source": [
    "start_time = datetime.now()\n",
    "\n",
    "# ADSZ Dataset\n",
    "!python -u run.py --task_name classification --is_training 1 --root_path ./dataset/ADSZ/ --model_id ADSZ-Dep --model EEGNet --data ADSZDep --e_layers 6 --batch_size 32 --d_model 128 --d_ff 256 --des 'Exp' --itr 5 --learning_rate 0.0001 --train_epochs 100 --patience 10\n",
    "\n",
    "# APAVA Dataset\n",
    "!python -u run.py --task_name classification --is_training 1 --root_path ./dataset/APAVA/ --model_id APAVA-Dep --model EEGNet --data APAVADep --e_layers 6 --batch_size 32 --d_model 128 --d_ff 256 --des 'Exp' --itr 5 --learning_rate 0.0001 --train_epochs 100 --patience 10\n",
    "\n",
    "# ADFD Dataset\n",
    "!python -u run.py --task_name classification --is_training 1 --root_path ./dataset/ADFD/ --model_id ADFD-Dep --model EEGNet --data ADFDDep --e_layers 6 --batch_size 128 --d_model 128 --d_ff 256 --des 'Exp' --itr 5 --learning_rate 0.0001 --train_epochs 100 --patience 10\n",
    "\n",
    "# CNBPM Dataset\n",
    "!python -u run.py --task_name classification --is_training 1 --root_path ./dataset/CNBPM/ --model_id CNBPM-Dep --model EEGNet --data CNBPMDep --e_layers 6 --batch_size 128 --d_model 128 --d_ff 256 --des 'Exp' --itr 5 --learning_rate 0.0001 --train_epochs 100 --patience 10\n",
    "\n",
    "# Cognision-ERP Dataset\n",
    "!python -u run.py --task_name classification --is_training 1 --root_path ./dataset/Cognision-ERP/ --model_id Cognision-ERP-Dep --model EEGNet --data COGERPDep --e_layers 6 --batch_size 32 --d_model 128 --d_ff 256 --des 'Exp' --itr 5 --learning_rate 0.0001 --train_epochs 100 --patience 10\n",
    "\n",
    "end_time = datetime.now()\n",
    "print(f'Duration: {end_time - start_time}')"
   ],
   "metadata": {
    "collapsed": false,
    "jupyter": {
     "is_executing": true
    }
   },
   "outputs": [],
   "execution_count": null
  },
  {
   "cell_type": "markdown",
   "source": [
    "#### StatisticalFeatures"
   ],
   "metadata": {
    "collapsed": false
   }
  },
  {
   "cell_type": "code",
   "source": [
    "start_time = datetime.now()\n",
    "\n",
    "# ADSZ Dataset\n",
    "!python -u run.py --task_name classification --is_training 1 --root_path ./dataset/ADSZ/ --model_id ADSZ-Dep --model StatisticalFeatures --data ADSZDep --e_layers 6 --batch_size 32 --d_model 128 --d_ff 256 --sampling_rate 128 --des 'Exp' --itr 5 --learning_rate 0.0001 --train_epochs 100 --patience 10\n",
    "\n",
    "# APAVA Dataset\n",
    "!python -u run.py --task_name classification --is_training 1 --root_path ./dataset/APAVA/ --model_id APAVA-Dep --model StatisticalFeatures --data APAVADep --e_layers 6 --batch_size 32 --d_model 128 --d_ff 256 --sampling_rate 256 --des 'Exp' --itr 5 --learning_rate 0.0001 --train_epochs 100 --patience 10\n",
    "\n",
    "# ADFD Dataset\n",
    "!python -u run.py --task_name classification --is_training 1 --root_path ./dataset/ADFD/ --model_id ADFD-Dep --model StatisticalFeatures --data ADFDDep --e_layers 6 --batch_size 128 --d_model 128 --d_ff 256 --sampling_rate 256 --des 'Exp' --itr 5 --learning_rate 0.0001 --train_epochs 100 --patience 10\n",
    "\n",
    "# CNBPM Dataset\n",
    "!python -u run.py --task_name classification --is_training 1 --root_path ./dataset/CNBPM/ --model_id CNBPM-Dep --model StatisticalFeatures --data CNBPMDep --e_layers 6 --batch_size 128 --d_model 128 --d_ff 256 --sampling_rate 256 --des 'Exp' --itr 5 --learning_rate 0.0001 --train_epochs 100 --patience 10\n",
    "\n",
    "# Cognision-ERP Dataset\n",
    "!python -u run.py --task_name classification --is_training 1 --root_path ./dataset/Cognision-ERP/ --model_id Cognision-ERP-Dep --model StatisticalFeatures --data COGERPDep --e_layers 6 --batch_size 32 --d_model 128 --d_ff 256 --sampling_rate 125 --des 'Exp' --itr 5 --learning_rate 0.0001 --train_epochs 100 --patience 10\n",
    "\n",
    "end_time = datetime.now()\n",
    "print(f'Duration: {end_time - start_time}')"
   ],
   "metadata": {
    "collapsed": false,
    "pycharm": {
     "is_executing": true
    },
    "jupyter": {
     "is_executing": true
    }
   },
   "outputs": [],
   "execution_count": null
  },
  {
   "cell_type": "markdown",
   "source": [
    "#### SpectralFeatures"
   ],
   "metadata": {
    "collapsed": false
   }
  },
  {
   "cell_type": "code",
   "source": [
    "start_time = datetime.now()\n",
    "\n",
    "# ADSZ Dataset\n",
    "!python -u run.py --task_name classification --is_training 1 --root_path ./dataset/ADSZ/ --model_id ADSZ-Dep --model SpectralFeatures --data ADSZDep --e_layers 6 --batch_size 32 --d_model 128 --d_ff 256 --sampling_rate 128 --des 'Exp' --itr 5 --learning_rate 0.0001 --train_epochs 100 --patience 10\n",
    "\n",
    "# APAVA Dataset\n",
    "!python -u run.py --task_name classification --is_training 1 --root_path ./dataset/APAVA/ --model_id APAVA-Dep --model SpectralFeatures --data APAVADep --e_layers 6 --batch_size 32 --d_model 128 --d_ff 256 --sampling_rate 256 --des 'Exp' --itr 5 --learning_rate 0.0001 --train_epochs 100 --patience 10\n",
    "\n",
    "# ADFD Dataset\n",
    "!python -u run.py --task_name classification --is_training 1 --root_path ./dataset/ADFD/ --model_id ADFD-Dep --model SpectralFeatures --data ADFDDep --e_layers 6 --batch_size 128 --d_model 128 --d_ff 256 --sampling_rate 256 --des 'Exp' --itr 5 --learning_rate 0.0001 --train_epochs 100 --patience 10\n",
    "\n",
    "# CNBPM Dataset\n",
    "!python -u run.py --task_name classification --is_training 1 --root_path ./dataset/CNBPM/ --model_id CNBPM-Dep --model SpectralFeatures --data CNBPMDep --e_layers 6 --batch_size 128 --d_model 128 --d_ff 256 --sampling_rate 256 --des 'Exp' --itr 5 --learning_rate 0.0001 --train_epochs 100 --patience 10\n",
    "\n",
    "# Cognision-ERP Dataset\n",
    "!python -u run.py --task_name classification --is_training 1 --root_path ./dataset/Cognision-ERP/ --model_id Cognision-ERP-Dep --model SpectralFeatures --data COGERPDep --e_layers 6 --batch_size 32 --d_model 128 --d_ff 256 --sampling_rate 125 --des 'Exp' --itr 5 --learning_rate 0.0001 --train_epochs 100 --patience 10\n",
    "\n",
    "end_time = datetime.now()\n",
    "print(f'Duration: {end_time - start_time}')"
   ],
   "metadata": {
    "collapsed": false,
    "jupyter": {
     "is_executing": true
    }
   },
   "outputs": [],
   "execution_count": null
  },
  {
   "cell_type": "markdown",
   "source": [
    "#### PowerFeatures"
   ],
   "metadata": {
    "collapsed": false
   }
  },
  {
   "cell_type": "code",
   "source": [
    "start_time = datetime.now()\n",
    "\n",
    "# ADSZ Dataset\n",
    "!python -u run.py --task_name classification --is_training 1 --root_path ./dataset/ADSZ/ --model_id ADSZ-Dep --model PowerFeatures --data ADSZDep --e_layers 6 --batch_size 32 --d_model 128 --d_ff 256 --sampling_rate 128 --des 'Exp' --itr 5 --learning_rate 0.0001 --train_epochs 100 --patience 10\n",
    "\n",
    "# APAVA Dataset\n",
    "!python -u run.py --task_name classification --is_training 1 --root_path ./dataset/APAVA/ --model_id APAVA-Dep --model PowerFeatures --data APAVADep --e_layers 6 --batch_size 32 --d_model 128 --d_ff 256 --sampling_rate 256 --des 'Exp' --itr 5 --learning_rate 0.0001 --train_epochs 100 --patience 10\n",
    "\n",
    "# ADFD Dataset\n",
    "!python -u run.py --task_name classification --is_training 1 --root_path ./dataset/ADFD/ --model_id ADFD-Dep --model PowerFeatures --data ADFDDep --e_layers 6 --batch_size 128 --d_model 128 --d_ff 256 --sampling_rate 256 --des 'Exp' --itr 5 --learning_rate 0.0001 --train_epochs 100 --patience 10\n",
    "\n",
    "# CNBPM Dataset\n",
    "!python -u run.py --task_name classification --is_training 1 --root_path ./dataset/CNBPM/ --model_id CNBPM-Dep --model PowerFeatures --data CNBPMDep --e_layers 6 --batch_size 128 --d_model 128 --d_ff 256 --sampling_rate 256 --des 'Exp' --itr 5 --learning_rate 0.0001 --train_epochs 100 --patience 10\n",
    "\n",
    "# Cognision-ERP Dataset\n",
    "!python -u run.py --task_name classification --is_training 1 --root_path ./dataset/Cognision-ERP/ --model_id Cognision-ERP-Dep --model PowerFeatures --data COGERPDep --e_layers 6 --batch_size 32 --d_model 128 --d_ff 256 --sampling_rate 125 --des 'Exp' --itr 5 --learning_rate 0.0001 --train_epochs 100 --patience 10\n",
    "\n",
    "end_time = datetime.now()\n",
    "print(f'Duration: {end_time - start_time}')"
   ],
   "metadata": {
    "collapsed": false,
    "jupyter": {
     "is_executing": true
    }
   },
   "outputs": [],
   "execution_count": null
  },
  {
   "cell_type": "markdown",
   "source": [
    "#### ComplexityFeatures"
   ],
   "metadata": {
    "collapsed": false
   }
  },
  {
   "cell_type": "code",
   "source": [
    "start_time = datetime.now()\n",
    "\n",
    "# ADSZ Dataset\n",
    "!python -u run.py --task_name classification --is_training 1 --root_path ./dataset/ADSZ/ --model_id ADSZ-Dep --model ComplexityFeatures --data ADSZDep --e_layers 6 --batch_size 32 --d_model 128 --d_ff 256 --sampling_rate 128 --des 'Exp' --itr 5 --learning_rate 0.0001 --train_epochs 100 --patience 10\n",
    "\n",
    "# APAVA Dataset\n",
    "!python -u run.py --task_name classification --is_training 1 --root_path ./dataset/APAVA/ --model_id APAVA-Dep --model ComplexityFeatures --data APAVADep --e_layers 6 --batch_size 32 --d_model 128 --d_ff 256 --sampling_rate 256 --des 'Exp' --itr 5 --learning_rate 0.0001 --train_epochs 100 --patience 10\n",
    "\n",
    "# ADFD Dataset\n",
    "!python -u run.py --task_name classification --is_training 1 --root_path ./dataset/ADFD/ --model_id ADFD-Dep --model ComplexityFeatures --data ADFDDep --e_layers 6 --batch_size 128 --d_model 128 --d_ff 256 --sampling_rate 256 --des 'Exp' --itr 5 --learning_rate 0.0001 --train_epochs 100 --patience 10\n",
    "\n",
    "# CNBPM Dataset\n",
    "!python -u run.py --task_name classification --is_training 1 --root_path ./dataset/CNBPM/ --model_id CNBPM-Dep --model ComplexityFeatures --data CNBPMDep --e_layers 6 --batch_size 128 --d_model 128 --d_ff 256 --sampling_rate 256 --des 'Exp' --itr 5 --learning_rate 0.0001 --train_epochs 100 --patience 10\n",
    "\n",
    "# Cognision-ERP Dataset\n",
    "!python -u run.py --task_name classification --is_training 1 --root_path ./dataset/Cognision-ERP/ --model_id Cognision-ERP-Dep --model ComplexityFeatures --data COGERPDep --e_layers 6 --batch_size 32 --d_model 128 --d_ff 256 --sampling_rate 125 --des 'Exp' --itr 5 --learning_rate 0.0001 --train_epochs 100 --patience 10\n",
    "\n",
    "end_time = datetime.now()\n",
    "print(f'Duration: {end_time - start_time}')"
   ],
   "metadata": {
    "collapsed": false,
    "jupyter": {
     "is_executing": true
    }
   },
   "outputs": [],
   "execution_count": null
  },
  {
   "cell_type": "markdown",
   "source": [
    "#### ADformer"
   ],
   "metadata": {
    "collapsed": false
   }
  },
  {
   "metadata": {
    "jupyter": {
     "is_executing": true
    }
   },
   "cell_type": "code",
   "source": [
    "# ADSZ Dataset\n",
    "!python -u run.py --task_name classification --is_training 1 --root_path ./dataset/ADSZ/ --model_id ADSZ-Dep --model ADformer --data ADSZDep --e_layers 6 --batch_size 32 --d_model 128 --d_ff 256 --patch_len_list 2 --up_dim_list 19 --augmentations none,flip0.8 --des 'Exp' --itr 5 --learning_rate 0.0001 --train_epochs 100 --patience 10\n",
    "\n",
    "# APAVA Dataset\n",
    "!python -u run.py --task_name classification --is_training 1 --root_path ./dataset/APAVA/ --model_id APAVA-Dep --model ADformer --data APAVADep --e_layers 6 --batch_size 32 --d_model 128 --d_ff 256 --patch_len_list 4,8 --up_dim_list 32,64 --augmentations none,flip0.8 --des 'Exp' --itr 5 --learning_rate 0.0001 --train_epochs 100 --patience 10\n",
    "\n",
    "# ADFD Dataset\n",
    "!python -u run.py --task_name classification --is_training 1 --root_path ./dataset/ADFD/ --model_id ADFD-Dep --model ADformer --data ADFDDep --e_layers 6 --batch_size 128 --d_model 128 --d_ff 256 --patch_len_list 1,2,4 --up_dim_list 19,38 --augmentations flip,drop0.25 --des 'Exp' --itr 5 --learning_rate 0.0001 --train_epochs 100 --patience 10\n",
    "\n",
    "# CNBPM Dataset\n",
    "!python -u run.py --task_name classification --is_training 1 --root_path ./dataset/CNBPM/ --model_id CNBPM-Dep --model ADformer --data CNBPMDep --e_layers 6 --batch_size 128 --d_model 128 --d_ff 256 --patch_len_list 2,2,2,4,4,4 --up_dim_list 19,38,76,152 --augmentations flip,jitter0.25,drop0.25 --des 'Exp' --itr 5 --learning_rate 0.0001 --train_epochs 100 --patience 10\n",
    "\n",
    "# Cognision-ERP Dataset\n",
    "!python -u run.py --task_name classification --is_training 1 --root_path ./dataset/Cognision-ERP/ --model_id Cognision-ERP-Dep --model ADformer --data COGERPDep --e_layers 6 --batch_size 256 --d_model 128 --d_ff 256 --patch_len_list 3,3 --up_dim_list 7 --augmentations flip,shuffle --des 'Exp' --itr 5 --learning_rate 0.0001 --train_epochs 100 --patience 10"
   ],
   "outputs": [],
   "execution_count": null
  }
 ],
 "metadata": {
  "kernelspec": {
   "display_name": "Python 3",
   "language": "python",
   "name": "python3"
  },
  "language_info": {
   "codemirror_mode": {
    "name": "ipython",
    "version": 2
   },
   "file_extension": ".py",
   "mimetype": "text/x-python",
   "name": "python",
   "nbconvert_exporter": "python",
   "pygments_lexer": "ipython2",
   "version": "2.7.6"
  }
 },
 "nbformat": 4,
 "nbformat_minor": 0
}
