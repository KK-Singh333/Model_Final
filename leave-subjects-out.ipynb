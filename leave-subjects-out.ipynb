{
 "cells": [
  {
   "cell_type": "markdown",
   "source": [
    "#### StatisticalFeatures"
   ],
   "metadata": {
    "collapsed": false
   }
  },
  {
   "cell_type": "code",
   "execution_count": null,
   "outputs": [],
   "source": [
    "# ADFD Dataset\n",
    "!python -u run.py --task_name classification --is_training 1 --root_path ./dataset/ADFD/ --model_id ADFD-LSO --model StatisticalFeatures --data ADFDLSO --e_layers 6 --batch_size 128 --d_model 128 --d_ff 256 --sampling_rate 256 --des 'Exp' --itr 5 --learning_rate 0.0001 --train_epochs 100 --patience 10\n",
    "\n",
    "# CNBPM Dataset\n",
    "!python -u run.py --task_name classification --is_training 1 --root_path ./dataset/CNBPM/ --model_id CNBPM-LSO --model StatisticalFeatures --data CNBPMLSO --e_layers 6 --batch_size 128 --d_model 128 --d_ff 256 --sampling_rate 256 --des 'Exp' --itr 5 --learning_rate 0.0001 --train_epochs 100 --patience 10"
   ],
   "metadata": {
    "collapsed": false
   }
  },
  {
   "cell_type": "markdown",
   "source": [
    "#### SpectralFeatures"
   ],
   "metadata": {
    "collapsed": false
   }
  },
  {
   "cell_type": "code",
   "execution_count": null,
   "outputs": [],
   "source": [
    "# ADFD Dataset\n",
    "!python -u run.py --task_name classification --is_training 1 --root_path ./dataset/ADFD/ --model_id ADFD-LSO --model SpectralFeatures --data ADFDLSO --e_layers 6 --batch_size 128 --d_model 128 --d_ff 256 --sampling_rate 256 --des 'Exp' --itr 5 --learning_rate 0.0001 --train_epochs 100 --patience 10\n",
    "\n",
    "# CNBPM Dataset\n",
    "!python -u run.py --task_name classification --is_training 1 --root_path ./dataset/CNBPM/ --model_id CNBPM-LSO --model SpectralFeatures --data CNBPMLSO --e_layers 6 --batch_size 128 --d_model 128 --d_ff 256 --sampling_rate 256 --des 'Exp' --itr 5 --learning_rate 0.0001 --train_epochs 100 --patience 10"
   ],
   "metadata": {
    "collapsed": false
   }
  },
  {
   "cell_type": "markdown",
   "source": [
    "#### PowerFeatures"
   ],
   "metadata": {
    "collapsed": false
   }
  },
  {
   "cell_type": "code",
   "execution_count": null,
   "outputs": [],
   "source": [
    "# ADFD Dataset\n",
    "!python -u run.py --task_name classification --is_training 1 --root_path ./dataset/ADFD/ --model_id ADFD-LSO --model PowerFeatures --data ADFDLSO --e_layers 6 --batch_size 128 --d_model 128 --d_ff 256 --sampling_rate 256 --des 'Exp' --itr 5 --learning_rate 0.0001 --train_epochs 100 --patience 10\n",
    "\n",
    "# CNBPM Dataset\n",
    "!python -u run.py --task_name classification --is_training 1 --root_path ./dataset/CNBPM/ --model_id CNBPM-LSO --model PowerFeatures --data CNBPMLSO --e_layers 6 --batch_size 128 --d_model 128 --d_ff 256 --sampling_rate 256 --des 'Exp' --itr 5 --learning_rate 0.0001 --train_epochs 100 --patience 10"
   ],
   "metadata": {
    "collapsed": false
   }
  },
  {
   "cell_type": "markdown",
   "source": [
    "#### ComplexityFeatures"
   ],
   "metadata": {
    "collapsed": false
   }
  },
  {
   "cell_type": "code",
   "execution_count": null,
   "outputs": [],
   "source": [
    "# ADFD Dataset\n",
    "!python -u run.py --task_name classification --is_training 1 --root_path ./dataset/ADFD/ --model_id ADFD-LSO --model ComplexityFeatures --data ADFDLSO --e_layers 6 --batch_size 128 --d_model 128 --d_ff 256 --sampling_rate 256 --des 'Exp' --itr 5 --learning_rate 0.0001 --train_epochs 100 --patience 10\n",
    "\n",
    "# CNBPM Dataset\n",
    "!python -u run.py --task_name classification --is_training 1 --root_path ./dataset/CNBPM/ --model_id CNBPM-LSO --model ComplexityFeatures --data CNBPMLSO --e_layers 6 --batch_size 128 --d_model 128 --d_ff 256 --sampling_rate 256 --des 'Exp' --itr 5 --learning_rate 0.0001 --train_epochs 100 --patience 10"
   ],
   "metadata": {
    "collapsed": false
   }
  },
  {
   "cell_type": "markdown",
   "source": [
    "#### EEGNet"
   ],
   "metadata": {
    "collapsed": false
   }
  },
  {
   "cell_type": "code",
   "execution_count": null,
   "outputs": [],
   "source": [
    "# ADFD Dataset\n",
    "!python -u run.py --task_name classification --is_training 1 --root_path ./dataset/ADFD/ --model_id ADFD-LSO --model EEGNet --data ADFDLSO --e_layers 6 --batch_size 128 --d_model 128 --d_ff 256 --des 'Exp' --itr 5 --learning_rate 0.0001 --train_epochs 100 --patience 10\n",
    "\n",
    "# CNBPM Dataset\n",
    "!python -u run.py --task_name classification --is_training 1 --root_path ./dataset/CNBPM/ --model_id CNBPM-LSO --model EEGNet --data CNBPMLSO --e_layers 6 --batch_size 128 --d_model 128 --d_ff 256 --des 'Exp' --itr 5 --learning_rate 0.0001 --train_epochs 100 --patience 10"
   ],
   "metadata": {
    "collapsed": false
   }
  },
  {
   "cell_type": "markdown",
   "source": [
    "#### TCN"
   ],
   "metadata": {
    "collapsed": false
   }
  },
  {
   "cell_type": "code",
   "execution_count": null,
   "outputs": [],
   "source": [
    "# ADFD Dataset\n",
    "!python -u run.py --task_name classification --is_training 1 --root_path ./dataset/ADFD/ --model_id ADFD-LSO --model TCN --data ADFDLSO --e_layers 6 --batch_size 128 --d_model 128 --d_ff 256 --des 'Exp' --itr 5 --learning_rate 0.0001 --train_epochs 100 --patience 10\n",
    "\n",
    "# CNBPM Dataset\n",
    "!python -u run.py --task_name classification --is_training 1 --root_path ./dataset/CNBPM/ --model_id CNBPM-LSO --model TCN --data CNBPMLSO --e_layers 6 --batch_size 128 --d_model 128 --d_ff 256 --des 'Exp' --itr 5 --learning_rate 0.0001 --train_epochs 100 --patience 10"
   ],
   "metadata": {
    "collapsed": false
   }
  },
  {
   "cell_type": "markdown",
   "source": [
    "#### MICN"
   ],
   "metadata": {
    "collapsed": false
   }
  },
  {
   "cell_type": "code",
   "execution_count": null,
   "outputs": [],
   "source": [
    "# ADFD Dataset\n",
    "!python -u run.py --task_name classification --is_training 1 --root_path ./dataset/ADFD/ --model_id ADFD-LSO --model MICN --data ADFDLSO --e_layers 6 --batch_size 128 --d_model 128 --d_ff 256 --des 'Exp' --itr 5 --learning_rate 0.0001 --train_epochs 100 --patience 10\n",
    "\n",
    "# CNBPM Dataset\n",
    "!python -u run.py --task_name classification --is_training 1 --root_path ./dataset/CNBPM/ --model_id CNBPM-LSO --model MICN --data CNBPMLSO --e_layers 6 --batch_size 128 --d_model 128 --d_ff 256 --des 'Exp' --itr 5 --learning_rate 0.0001 --train_epochs 100 --patience 10"
   ],
   "metadata": {
    "collapsed": false
   }
  },
  {
   "cell_type": "markdown",
   "source": [
    "#### TimesNet"
   ],
   "metadata": {
    "collapsed": false
   }
  },
  {
   "cell_type": "code",
   "execution_count": null,
   "outputs": [],
   "source": [
    "# ADFD Dataset\n",
    "!python -u run.py --task_name classification --is_training 1 --root_path ./dataset/ADFD/ --model_id ADFD-LSO --model TimesNet --data ADFDLSO --e_layers 6 --batch_size 128 --d_model 128 --d_ff 256 --top_k 1 --des 'Exp' --itr 5 --learning_rate 0.0001 --train_epochs 100 --patience 10\n",
    "\n",
    "# CNBPM Dataset\n",
    "!python -u run.py --task_name classification --is_training 1 --root_path ./dataset/CNBPM/ --model_id CNBPM-LSO --model TimesNet --data CNBPMLSO --e_layers 6 --batch_size 128 --d_model 128 --d_ff 256 --top_k 1 --des 'Exp' --itr 5 --learning_rate 0.0001 --train_epochs 100 --patience 10"
   ],
   "metadata": {
    "collapsed": false
   }
  },
  {
   "cell_type": "markdown",
   "source": [
    "#### Autoformer"
   ],
   "metadata": {
    "collapsed": false
   }
  },
  {
   "cell_type": "code",
   "execution_count": null,
   "outputs": [],
   "source": [
    "# ADFD Dataset\n",
    "!python -u run.py --task_name classification --is_training 1 --root_path ./dataset/ADFD/ --model_id ADFD-LSO --model Autoformer --data ADFDLSO --e_layers 6 --batch_size 128 --d_model 128 --d_ff 256 --des 'Exp' --itr 5 --learning_rate 0.0001 --train_epochs 100 --patience 10\n",
    "\n",
    "# CNBPM Dataset\n",
    "!python -u run.py --task_name classification --is_training 1 --root_path ./dataset/CNBPM/ --model_id CNBPM-LSO --model Autoformer --data CNBPMLSO --e_layers 6 --batch_size 128 --d_model 128 --d_ff 256 --des 'Exp' --itr 5 --learning_rate 0.0001 --train_epochs 100 --patience 10"
   ],
   "metadata": {
    "collapsed": false
   }
  },
  {
   "cell_type": "markdown",
   "source": [
    "#### Crossformer"
   ],
   "metadata": {
    "collapsed": false
   }
  },
  {
   "cell_type": "code",
   "execution_count": null,
   "outputs": [],
   "source": [
    "# ADFD Dataset\n",
    "!python -u run.py --task_name classification --is_training 1 --root_path ./dataset/ADFD/ --model_id ADFD-LSO --model Crossformer --data ADFDLSO --e_layers 6 --batch_size 128 --d_model 128 --d_ff 256 --des 'Exp' --itr 5 --learning_rate 0.0001 --train_epochs 100 --patience 10\n",
    "\n",
    "# CNBPM Dataset\n",
    "!python -u run.py --task_name classification --is_training 1 --root_path ./dataset/CNBPM/ --model_id CNBPM-LSO --model Crossformer --data CNBPMLSO --e_layers 6 --batch_size 128 --d_model 128 --d_ff 256 --des 'Exp' --itr 5 --learning_rate 0.0001 --train_epochs 100 --patience 10"
   ],
   "metadata": {
    "collapsed": false
   }
  },
  {
   "cell_type": "markdown",
   "source": [
    "#### FEDformer"
   ],
   "metadata": {
    "collapsed": false
   }
  },
  {
   "cell_type": "code",
   "execution_count": null,
   "outputs": [],
   "source": [
    "# ADFD Dataset\n",
    "!python -u run.py --task_name classification --is_training 1 --root_path ./dataset/ADFD/ --model_id ADFD-LSO --model FEDformer --data ADFDLSO --e_layers 6 --batch_size 128 --d_model 128 --d_ff 256 --des 'Exp' --itr 5 --learning_rate 0.0001 --train_epochs 100 --patience 10\n",
    "\n",
    "# CNBPM Dataset\n",
    "!python -u run.py --task_name classification --is_training 1 --root_path ./dataset/CNBPM/ --model_id CNBPM-LSO --model FEDformer --data CNBPMLSO --e_layers 6 --batch_size 128 --d_model 128 --d_ff 256 --des 'Exp' --itr 5 --learning_rate 0.0001 --train_epochs 100 --patience 10"
   ],
   "metadata": {
    "collapsed": false
   }
  },
  {
   "cell_type": "markdown",
   "source": [
    "#### Informer"
   ],
   "metadata": {
    "collapsed": false
   }
  },
  {
   "cell_type": "code",
   "execution_count": null,
   "outputs": [],
   "source": [
    "# ADFD Dataset\n",
    "!python -u run.py --task_name classification --is_training 1 --root_path ./dataset/ADFD/ --model_id ADFD-LSO --model Informer --data ADFDLSO --e_layers 6 --batch_size 128 --d_model 128 --d_ff 256 --des 'Exp' --itr 5 --learning_rate 0.0001 --train_epochs 100 --patience 10\n",
    "\n",
    "# CNBPM Dataset\n",
    "!python -u run.py --task_name classification --is_training 1 --root_path ./dataset/CNBPM/ --model_id CNBPM-LSO --model Informer --data CNBPMLSO --e_layers 6 --batch_size 128 --d_model 128 --d_ff 256 --des 'Exp' --itr 5 --learning_rate 0.0001 --train_epochs 100 --patience 10"
   ],
   "metadata": {
    "collapsed": false
   }
  },
  {
   "cell_type": "markdown",
   "source": [
    "#### iTransformer"
   ],
   "metadata": {
    "collapsed": false
   }
  },
  {
   "cell_type": "code",
   "execution_count": null,
   "outputs": [],
   "source": [
    "# ADFD Dataset\n",
    "!python -u run.py --task_name classification --is_training 1 --root_path ./dataset/ADFD/ --model_id ADFD-LSO --model iTransformer --data ADFDLSO --e_layers 6 --batch_size 128 --d_model 128 --d_ff 256 --des 'Exp' --itr 5 --learning_rate 0.0001 --train_epochs 100 --patience 10\n",
    "\n",
    "# CNBPM Dataset\n",
    "!python -u run.py --task_name classification --is_training 1 --root_path ./dataset/CNBPM/ --model_id CNBPM-LSO --model iTransformer --data CNBPMLSO --e_layers 6 --batch_size 128 --d_model 128 --d_ff 256 --des 'Exp' --itr 5 --learning_rate 0.0001 --train_epochs 100 --patience 10"
   ],
   "metadata": {
    "collapsed": false
   }
  },
  {
   "cell_type": "markdown",
   "source": [
    "#### MTST"
   ],
   "metadata": {
    "collapsed": false
   }
  },
  {
   "cell_type": "code",
   "execution_count": null,
   "outputs": [],
   "source": [
    "# ADFD Dataset\n",
    "!python -u run.py --task_name classification --is_training 1 --root_path ./dataset/ADFD/ --model_id ADFD-LSO --model MTST --data ADFDLSO --e_layers 6 --batch_size 128 --d_model 128 --d_ff 256 --patch_len_list 8,32,96 --des 'Exp' --itr 5 --learning_rate 0.0001 --train_epochs 100 --patience 10\n",
    "\n",
    "# CNBPM Dataset\n",
    "!python -u run.py --task_name classification --is_training 1 --root_path ./dataset/CNBPM/ --model_id CNBPM-LSO --model MTST --data CNBPMLSO --e_layers 6 --batch_size 128 --d_model 128 --d_ff 256 --patch_len_list 8,32,96 --des 'Exp' --itr 5 --learning_rate 0.0001 --train_epochs 100 --patience 10"
   ],
   "metadata": {
    "collapsed": false
   }
  },
  {
   "cell_type": "markdown",
   "source": [
    "#### Nonformer"
   ],
   "metadata": {
    "collapsed": false
   }
  },
  {
   "cell_type": "code",
   "execution_count": null,
   "outputs": [],
   "source": [
    "# ADFD Dataset\n",
    "!python -u run.py --task_name classification --is_training 1 --root_path ./dataset/ADFD/ --model_id ADFD-LSO --model Nonformer --data ADFDLSO --e_layers 6 --batch_size 128 --d_model 128 --d_ff 256 --des 'Exp' --itr 5 --learning_rate 0.0001 --train_epochs 100 --patience 10\n",
    "\n",
    "# CNBPM Dataset\n",
    "!python -u run.py --task_name classification --is_training 1 --root_path ./dataset/CNBPM/ --model_id CNBPM-LSO --model Nonformer --data CNBPMLSO --e_layers 6 --batch_size 128 --d_model 128 --d_ff 256 --des 'Exp' --itr 5 --learning_rate 0.0001 --train_epochs 100 --patience 10"
   ],
   "metadata": {
    "collapsed": false
   }
  },
  {
   "cell_type": "markdown",
   "source": [
    "#### PatchTST"
   ],
   "metadata": {
    "collapsed": false
   }
  },
  {
   "cell_type": "code",
   "execution_count": null,
   "outputs": [],
   "source": [
    "# ADFD Dataset\n",
    "!python -u run.py --task_name classification --is_training 1 --root_path ./dataset/ADFD/ --model_id ADFD-LSO --model PatchTST --data ADFDLSO --e_layers 6 --batch_size 128 --d_model 128 --d_ff 256 --des 'Exp' --itr 5 --learning_rate 0.0001 --train_epochs 100 --patience 10\n",
    "\n",
    "# CNBPM Dataset\n",
    "!python -u run.py --task_name classification --is_training 1 --root_path ./dataset/CNBPM/ --model_id CNBPM-LSO --model PatchTST --data CNBPMLSO --e_layers 6 --batch_size 128 --d_model 128 --d_ff 256 --des 'Exp' --itr 5 --learning_rate 0.0001 --train_epochs 100 --patience 10"
   ],
   "metadata": {
    "collapsed": false
   }
  },
  {
   "cell_type": "markdown",
   "source": [
    "#### Pyraformer"
   ],
   "metadata": {
    "collapsed": false
   }
  },
  {
   "cell_type": "code",
   "execution_count": null,
   "outputs": [],
   "source": [
    "# ADFD Dataset\n",
    "!python -u run.py --task_name classification --is_training 1 --root_path ./dataset/ADFD/ --model_id ADFD-LSO --model Pyraformer --data ADFDLSO --e_layers 6 --batch_size 128 --d_model 128 --d_ff 256 --des 'Exp' --itr 5 --learning_rate 0.0001 --train_epochs 100 --patience 10\n",
    "\n",
    "# CNBPM Dataset\n",
    "!python -u run.py --task_name classification --is_training 1 --root_path ./dataset/CNBPM/ --model_id CNBPM-LSO --model Pyraformer --data CNBPMLSO --e_layers 6 --batch_size 128 --d_model 128 --d_ff 256 --des 'Exp' --itr 5 --learning_rate 0.0001 --train_epochs 100 --patience 10"
   ],
   "metadata": {
    "collapsed": false
   }
  },
  {
   "cell_type": "markdown",
   "source": [
    "#### Reformer"
   ],
   "metadata": {
    "collapsed": false
   }
  },
  {
   "cell_type": "code",
   "execution_count": null,
   "outputs": [],
   "source": [
    "# ADFD Dataset\n",
    "!python -u run.py --task_name classification --is_training 1 --root_path ./dataset/ADFD/ --model_id ADFD-LSO --model Reformer --data ADFDLSO --e_layers 6 --batch_size 128 --d_model 128 --d_ff 256 --des 'Exp' --itr 5 --learning_rate 0.0001 --train_epochs 100 --patience 10\n",
    "\n",
    "# CNBPM Dataset\n",
    "!python -u run.py --task_name classification --is_training 1 --root_path ./dataset/CNBPM/ --model_id CNBPM-LSO --model Reformer --data CNBPMLSO --e_layers 6 --batch_size 128 --d_model 128 --d_ff 256 --des 'Exp' --itr 5 --learning_rate 0.0001 --train_epochs 100 --patience 10"
   ],
   "metadata": {
    "collapsed": false
   }
  },
  {
   "cell_type": "markdown",
   "source": [
    "#### Transformer"
   ],
   "metadata": {
    "collapsed": false
   }
  },
  {
   "cell_type": "code",
   "execution_count": null,
   "outputs": [],
   "source": [
    "# ADFD Dataset\n",
    "!python -u run.py --task_name classification --is_training 1 --root_path ./dataset/ADFD/ --model_id ADFD-LSO --model Transformer --data ADFDLSO --e_layers 6 --batch_size 128 --d_model 128 --d_ff 256 --des 'Exp' --itr 5 --learning_rate 0.0001 --train_epochs 100 --patience 10\n",
    "\n",
    "# CNBPM Dataset\n",
    "!python -u run.py --task_name classification --is_training 1 --root_path ./dataset/CNBPM/ --model_id CNBPM-LSO --model Transformer --data CNBPMLSO --e_layers 6 --batch_size 128 --d_model 128 --d_ff 256 --des 'Exp' --itr 5 --learning_rate 0.0001 --train_epochs 100 --patience 10"
   ],
   "metadata": {
    "collapsed": false
   }
  },
  {
   "cell_type": "markdown",
   "source": [
    "#### ADformer"
   ],
   "metadata": {
    "collapsed": false
   }
  },
  {
   "cell_type": "code",
   "execution_count": null,
   "outputs": [],
   "source": [
    "# ADFD Dataset\n",
    "!python -u run.py --task_name classification --is_training 1 --root_path ./dataset/ADFD/ --model_id ADFD-LSO --model ADformer --data ADFDLSO --e_layers 6 --batch_size 128 --d_model 128 --d_ff 256 --patch_len_list 4 --up_dim_list 19,19,19,19 --augmentations flip,shuffle,frequency,jitter,drop --swa --no_temporal_block --des 'Exp' --itr 5 --learning_rate 0.0001 --train_epochs 100 --patience 10\n",
    "\n",
    "# CNBPM Dataset\n",
    "!python -u run.py --task_name classification --is_training 1 --root_path ./dataset/CNBPM/ --model_id CNBPM-LSO --model ADformer --data CNBPMLSO --e_layers 6 --batch_size 128 --d_model 128 --d_ff 256 --patch_len_list 6,6,8,8 --up_dim_list 19,38,76,152 --augmentations flip,shuffle,jitter,drop --swa --des 'Exp' --itr 5 --learning_rate 0.0001 --train_epochs 100 --patience 10"
   ],
   "metadata": {
    "collapsed": false
   }
  }
 ],
 "metadata": {
  "kernelspec": {
   "display_name": "Python 3",
   "language": "python",
   "name": "python3"
  },
  "language_info": {
   "codemirror_mode": {
    "name": "ipython",
    "version": 2
   },
   "file_extension": ".py",
   "mimetype": "text/x-python",
   "name": "python",
   "nbconvert_exporter": "python",
   "pygments_lexer": "ipython2",
   "version": "2.7.6"
  }
 },
 "nbformat": 4,
 "nbformat_minor": 0
}
